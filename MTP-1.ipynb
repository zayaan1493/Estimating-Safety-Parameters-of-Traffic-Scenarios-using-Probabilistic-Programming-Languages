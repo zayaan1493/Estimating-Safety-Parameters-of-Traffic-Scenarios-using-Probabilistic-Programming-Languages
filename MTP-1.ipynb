{
  "nbformat": 4,
  "nbformat_minor": 0,
  "metadata": {
    "colab": {
      "name": "MTP1.ipynb",
      "provenance": [],
      "collapsed_sections": []
    },
    "kernelspec": {
      "display_name": "Python 3",
      "name": "python3"
    },
    "language_info": {
      "name": "python"
    }
  },
  "cells": [
    {
      "cell_type": "code",
      "metadata": {
        "id": "Z__9OhC0zjE6"
      },
      "source": [
        "import os\n",
        "import sys\n",
        "from google.colab import drive"
      ],
      "execution_count": null,
      "outputs": []
    },
    {
      "cell_type": "code",
      "metadata": {
        "colab": {
          "base_uri": "https://localhost:8080/"
        },
        "id": "4F13yh7CzmAr",
        "outputId": "7267d1e9-5905-480d-e4fc-74279385b31d"
      },
      "source": [
        "drive.mount('/content/drive')"
      ],
      "execution_count": null,
      "outputs": [
        {
          "output_type": "stream",
          "name": "stdout",
          "text": [
            "Mounted at /content/drive\n"
          ]
        }
      ]
    },
    {
      "cell_type": "code",
      "metadata": {
        "id": "3NbLZD42zvds"
      },
      "source": [
        "os.chdir(\"/content/drive/My Drive/Colab Notebooks\")"
      ],
      "execution_count": null,
      "outputs": []
    },
    {
      "cell_type": "code",
      "metadata": {
        "colab": {
          "base_uri": "https://localhost:8080/"
        },
        "id": "L1gtl16dyQ03",
        "outputId": "e3f56b7e-7721-4424-e5fa-6f4bb21801ad"
      },
      "source": [
        "!pip3 install pyro-ppl"
      ],
      "execution_count": null,
      "outputs": [
        {
          "output_type": "stream",
          "name": "stdout",
          "text": [
            "Collecting pyro-ppl\n",
            "  Downloading pyro_ppl-1.7.0-py3-none-any.whl (678 kB)\n",
            "\u001b[?25l\r\u001b[K     |▌                               | 10 kB 26.3 MB/s eta 0:00:01\r\u001b[K     |█                               | 20 kB 29.1 MB/s eta 0:00:01\r\u001b[K     |█▌                              | 30 kB 21.6 MB/s eta 0:00:01\r\u001b[K     |██                              | 40 kB 17.8 MB/s eta 0:00:01\r\u001b[K     |██▍                             | 51 kB 9.0 MB/s eta 0:00:01\r\u001b[K     |███                             | 61 kB 8.6 MB/s eta 0:00:01\r\u001b[K     |███▍                            | 71 kB 8.9 MB/s eta 0:00:01\r\u001b[K     |███▉                            | 81 kB 10.0 MB/s eta 0:00:01\r\u001b[K     |████▍                           | 92 kB 10.4 MB/s eta 0:00:01\r\u001b[K     |████▉                           | 102 kB 8.3 MB/s eta 0:00:01\r\u001b[K     |█████▎                          | 112 kB 8.3 MB/s eta 0:00:01\r\u001b[K     |█████▉                          | 122 kB 8.3 MB/s eta 0:00:01\r\u001b[K     |██████▎                         | 133 kB 8.3 MB/s eta 0:00:01\r\u001b[K     |██████▊                         | 143 kB 8.3 MB/s eta 0:00:01\r\u001b[K     |███████▎                        | 153 kB 8.3 MB/s eta 0:00:01\r\u001b[K     |███████▊                        | 163 kB 8.3 MB/s eta 0:00:01\r\u001b[K     |████████▏                       | 174 kB 8.3 MB/s eta 0:00:01\r\u001b[K     |████████▊                       | 184 kB 8.3 MB/s eta 0:00:01\r\u001b[K     |█████████▏                      | 194 kB 8.3 MB/s eta 0:00:01\r\u001b[K     |█████████▋                      | 204 kB 8.3 MB/s eta 0:00:01\r\u001b[K     |██████████▏                     | 215 kB 8.3 MB/s eta 0:00:01\r\u001b[K     |██████████▋                     | 225 kB 8.3 MB/s eta 0:00:01\r\u001b[K     |███████████                     | 235 kB 8.3 MB/s eta 0:00:01\r\u001b[K     |███████████▋                    | 245 kB 8.3 MB/s eta 0:00:01\r\u001b[K     |████████████                    | 256 kB 8.3 MB/s eta 0:00:01\r\u001b[K     |████████████▌                   | 266 kB 8.3 MB/s eta 0:00:01\r\u001b[K     |█████████████                   | 276 kB 8.3 MB/s eta 0:00:01\r\u001b[K     |█████████████▌                  | 286 kB 8.3 MB/s eta 0:00:01\r\u001b[K     |██████████████                  | 296 kB 8.3 MB/s eta 0:00:01\r\u001b[K     |██████████████▌                 | 307 kB 8.3 MB/s eta 0:00:01\r\u001b[K     |███████████████                 | 317 kB 8.3 MB/s eta 0:00:01\r\u001b[K     |███████████████▌                | 327 kB 8.3 MB/s eta 0:00:01\r\u001b[K     |████████████████                | 337 kB 8.3 MB/s eta 0:00:01\r\u001b[K     |████████████████▍               | 348 kB 8.3 MB/s eta 0:00:01\r\u001b[K     |█████████████████               | 358 kB 8.3 MB/s eta 0:00:01\r\u001b[K     |█████████████████▍              | 368 kB 8.3 MB/s eta 0:00:01\r\u001b[K     |█████████████████▉              | 378 kB 8.3 MB/s eta 0:00:01\r\u001b[K     |██████████████████▍             | 389 kB 8.3 MB/s eta 0:00:01\r\u001b[K     |██████████████████▉             | 399 kB 8.3 MB/s eta 0:00:01\r\u001b[K     |███████████████████▎            | 409 kB 8.3 MB/s eta 0:00:01\r\u001b[K     |███████████████████▉            | 419 kB 8.3 MB/s eta 0:00:01\r\u001b[K     |████████████████████▎           | 430 kB 8.3 MB/s eta 0:00:01\r\u001b[K     |████████████████████▊           | 440 kB 8.3 MB/s eta 0:00:01\r\u001b[K     |█████████████████████▎          | 450 kB 8.3 MB/s eta 0:00:01\r\u001b[K     |█████████████████████▊          | 460 kB 8.3 MB/s eta 0:00:01\r\u001b[K     |██████████████████████▏         | 471 kB 8.3 MB/s eta 0:00:01\r\u001b[K     |██████████████████████▊         | 481 kB 8.3 MB/s eta 0:00:01\r\u001b[K     |███████████████████████▏        | 491 kB 8.3 MB/s eta 0:00:01\r\u001b[K     |███████████████████████▋        | 501 kB 8.3 MB/s eta 0:00:01\r\u001b[K     |████████████████████████▏       | 512 kB 8.3 MB/s eta 0:00:01\r\u001b[K     |████████████████████████▋       | 522 kB 8.3 MB/s eta 0:00:01\r\u001b[K     |█████████████████████████       | 532 kB 8.3 MB/s eta 0:00:01\r\u001b[K     |█████████████████████████▋      | 542 kB 8.3 MB/s eta 0:00:01\r\u001b[K     |██████████████████████████      | 552 kB 8.3 MB/s eta 0:00:01\r\u001b[K     |██████████████████████████▌     | 563 kB 8.3 MB/s eta 0:00:01\r\u001b[K     |███████████████████████████     | 573 kB 8.3 MB/s eta 0:00:01\r\u001b[K     |███████████████████████████▌    | 583 kB 8.3 MB/s eta 0:00:01\r\u001b[K     |████████████████████████████    | 593 kB 8.3 MB/s eta 0:00:01\r\u001b[K     |████████████████████████████▌   | 604 kB 8.3 MB/s eta 0:00:01\r\u001b[K     |█████████████████████████████   | 614 kB 8.3 MB/s eta 0:00:01\r\u001b[K     |█████████████████████████████▍  | 624 kB 8.3 MB/s eta 0:00:01\r\u001b[K     |██████████████████████████████  | 634 kB 8.3 MB/s eta 0:00:01\r\u001b[K     |██████████████████████████████▍ | 645 kB 8.3 MB/s eta 0:00:01\r\u001b[K     |███████████████████████████████ | 655 kB 8.3 MB/s eta 0:00:01\r\u001b[K     |███████████████████████████████▍| 665 kB 8.3 MB/s eta 0:00:01\r\u001b[K     |███████████████████████████████▉| 675 kB 8.3 MB/s eta 0:00:01\r\u001b[K     |████████████████████████████████| 678 kB 8.3 MB/s \n",
            "\u001b[?25hCollecting pyro-api>=0.1.1\n",
            "  Downloading pyro_api-0.1.2-py3-none-any.whl (11 kB)\n",
            "Requirement already satisfied: opt-einsum>=2.3.2 in /usr/local/lib/python3.7/dist-packages (from pyro-ppl) (3.3.0)\n",
            "Requirement already satisfied: numpy>=1.7 in /usr/local/lib/python3.7/dist-packages (from pyro-ppl) (1.19.5)\n",
            "Requirement already satisfied: tqdm>=4.36 in /usr/local/lib/python3.7/dist-packages (from pyro-ppl) (4.62.3)\n",
            "Requirement already satisfied: torch>=1.9.0 in /usr/local/lib/python3.7/dist-packages (from pyro-ppl) (1.9.0+cu111)\n",
            "Requirement already satisfied: typing-extensions in /usr/local/lib/python3.7/dist-packages (from torch>=1.9.0->pyro-ppl) (3.7.4.3)\n",
            "Installing collected packages: pyro-api, pyro-ppl\n",
            "Successfully installed pyro-api-0.1.2 pyro-ppl-1.7.0\n"
          ]
        }
      ]
    },
    {
      "cell_type": "code",
      "metadata": {
        "id": "6Ss7JPuaGb3v"
      },
      "source": [
        "import numpy as np\n",
        "\n",
        "import scipy.stats\n",
        "from scipy.stats import norm\n",
        "\n",
        "from matplotlib import pyplot as plt\n",
        "from IPython.core.pylabtools import figsize\n",
        "\n",
        "%matplotlib inline\n",
        "import torch\n",
        "from torch.distributions import constraints\n",
        "\n",
        "import pyro\n",
        "import pyro.infer\n",
        "import pyro.optim as optim\n",
        "import pyro.distributions as dist\n",
        "\n",
        "pyro.set_rng_seed(101)\n",
        "torch.manual_seed(101)\n",
        "np.random.seed(12);"
      ],
      "execution_count": null,
      "outputs": []
    },
    {
      "cell_type": "code",
      "metadata": {
        "id": "yxO4-wXlQroo"
      },
      "source": [
        ""
      ],
      "execution_count": null,
      "outputs": []
    },
    {
      "cell_type": "code",
      "metadata": {
        "colab": {
          "base_uri": "https://localhost:8080/"
        },
        "id": "d2tAABokbA9i",
        "outputId": "a10d3373-afa1-454a-9551-351f84784e5a"
      },
      "source": [
        "n = 100\n",
        "x = np.random.randn(n,1)\n",
        "std = 4\n",
        "mu = -1\n",
        "x = x * std + mu\n",
        "\n",
        "print(f\"Shape: {x.shape}\")\n",
        "print(f\"Mean: {np.mean(x)}\")\n",
        "print(f\"Standard deviation: {np.std(x)}\")"
      ],
      "execution_count": null,
      "outputs": [
        {
          "output_type": "stream",
          "name": "stdout",
          "text": [
            "Shape: (100, 1)\n",
            "Mean: -0.9649572533206396\n",
            "Standard deviation: 3.7704214957025473\n"
          ]
        }
      ]
    },
    {
      "cell_type": "code",
      "metadata": {
        "id": "IWtWMqN9HPh-"
      },
      "source": [
        "# x"
      ],
      "execution_count": null,
      "outputs": []
    },
    {
      "cell_type": "code",
      "metadata": {
        "id": "Sp6qcyBnHhkG"
      },
      "source": [
        "x=x.reshape(n)"
      ],
      "execution_count": null,
      "outputs": []
    },
    {
      "cell_type": "code",
      "metadata": {
        "colab": {
          "base_uri": "https://localhost:8080/"
        },
        "id": "PqD0KdQjIVPP",
        "outputId": "17f2ee6b-1323-4f54-cf52-fb3799d6be13"
      },
      "source": [
        "x.shape"
      ],
      "execution_count": null,
      "outputs": [
        {
          "output_type": "execute_result",
          "data": {
            "text/plain": [
              "(100,)"
            ]
          },
          "metadata": {},
          "execution_count": 69
        }
      ]
    },
    {
      "cell_type": "code",
      "metadata": {
        "id": "vGGLkSc0MEK8"
      },
      "source": [
        "x=torch.tensor(x)"
      ],
      "execution_count": null,
      "outputs": []
    },
    {
      "cell_type": "code",
      "metadata": {
        "colab": {
          "base_uri": "https://localhost:8080/"
        },
        "id": "Cx7HzMTPMG0Z",
        "outputId": "969c2424-8acb-4ca1-ba98-9e2ecf89bca1"
      },
      "source": [
        "x.shape"
      ],
      "execution_count": null,
      "outputs": [
        {
          "output_type": "execute_result",
          "data": {
            "text/plain": [
              "torch.Size([100])"
            ]
          },
          "metadata": {},
          "execution_count": 71
        }
      ]
    },
    {
      "cell_type": "code",
      "metadata": {
        "id": "UhoFaKkQk-mZ"
      },
      "source": [
        "pyro.distributions.enable_validation(False)"
      ],
      "execution_count": null,
      "outputs": []
    },
    {
      "cell_type": "code",
      "metadata": {
        "id": "lWbGdKU8c49v"
      },
      "source": [
        "def data_model(params):\n",
        "  mu_dist = pyro.sample(\"mu_dist\", dist.Normal(torch.tensor(params[0]), torch.tensor(params[1])))\n",
        "  std_dist = pyro.sample(\n",
        "      \"std_dist\", dist.Gamma(torch.tensor(np.abs(params[2])), torch.tensor(np.abs(params[3])))\n",
        "  )\n",
        "  # with pyro.plate(\"observed_data\", size=len(X)):\n",
        "  #       sample = pyro.sample(\"gaussian_data\", dist.Normal(mu, 1/torch.sqrt(tau)), obs=X)\n",
        "  # print(\"no\")\n",
        "  # print(mu_dist,std_dist)\n",
        "  sample=0\n",
        "  with pyro.plate(\"observation_dist\",size=len(x)):\n",
        "    sample=pyro.sample(\"data_dist\",dist.Normal(mu_dist, std_dist),obs=x)\n",
        "  return sample\n",
        "\n",
        "\n",
        "# conditioned_data_model = pyro.condition(\n",
        "#     data_model, data={\"data_dist\": torch.tensor(x.flatten())}\n",
        "# )"
      ],
      "execution_count": null,
      "outputs": []
    },
    {
      "cell_type": "code",
      "metadata": {
        "id": "QJMOjJFNVi7N"
      },
      "source": [
        "# def data_model(params):\n",
        "#     mu_dist = pyro.sample(\"mu_dist\", dist.Normal(params[0], params[1]))\n",
        "#     std_dist = pyro.sample(\n",
        "#         \"std_dist\", dist.Gamma(np.abs(params[2]), np.abs(params[3]))\n",
        "#     )\n",
        "#     return pyro.sample(\"data_dist\", dist.Normal(mu_dist, std_dist))\n",
        "\n",
        "\n",
        "# conditioned_data_model = pyro.condition(\n",
        "#     data_model, data={\"data_dist\": torch.tensor(x)}\n",
        "# )"
      ],
      "execution_count": null,
      "outputs": []
    },
    {
      "cell_type": "code",
      "metadata": {
        "id": "2PIs0aL6YuUR"
      },
      "source": [
        ""
      ],
      "execution_count": null,
      "outputs": []
    },
    {
      "cell_type": "code",
      "metadata": {
        "id": "M7ZHB1qvc72i"
      },
      "source": [
        "def parametrised_guide(params):\n",
        "  mu_mu = pyro.param(\"mu_mu\", torch.tensor(params[0]))\n",
        "  mu_std = pyro.param(\n",
        "      \"mu_std\", torch.tensor(params[1]), constraint=constraints.positive\n",
        "  )\n",
        "  std_a = pyro.param(\n",
        "      \"std_a\", torch.tensor(params[2]), constraint=constraints.positive\n",
        "  )\n",
        "  std_b = pyro.param(\n",
        "      \"std_b\", torch.tensor(params[3]), constraint=constraints.positive\n",
        "  )\n",
        "\n",
        "  mu_dist = pyro.sample(\"mu_dist\", dist.Normal(mu_mu, mu_std))\n",
        "  std_dist = pyro.sample(\"std_dist\", dist.Gamma(std_a, std_b))\n",
        "  # print(\"yes\")\n",
        "  # print(mu_dist,std_dist)\n",
        "  \n",
        "  return pyro.sample(\"data_dist\", dist.Normal(mu_dist, std_dist))"
      ],
      "execution_count": null,
      "outputs": []
    },
    {
      "cell_type": "code",
      "metadata": {
        "id": "NMHRpVHmdFFf"
      },
      "source": [
        "adam_params = {\"lr\": 0.3, \"betas\": (0.95, 0.999)}\n",
        "\n",
        "# pyro.optim.SGD({\"lr\": 0.0001, \"momentum\": 0.9})\n",
        "optimizer = pyro.optim.Adam(adam_params)\n",
        "svi = pyro.infer.SVI(\n",
        "  model=data_model,\n",
        "  guide=parametrised_guide,\n",
        "  optim=optimizer,\n",
        "  loss=pyro.infer.Trace_ELBO(),\n",
        ")"
      ],
      "execution_count": null,
      "outputs": []
    },
    {
      "cell_type": "code",
      "metadata": {
        "colab": {
          "base_uri": "https://localhost:8080/"
        },
        "id": "vWTjrWHEdISn",
        "outputId": "e0f53af8-c3db-42ed-af0f-2ebcf00bf37a"
      },
      "source": [
        "mu_prior = [0.0, 10.0]  # Gaussian - mu, std\n",
        "std_prior = [1.0, 0.1]  # Gamma - a, b\n",
        "params_prior = mu_prior + std_prior\n",
        "\n",
        "print(params_prior)\n",
        "\n",
        "# params_prior=torch.tensor(params_prior)\n",
        "print(params_prior)\n",
        "# Iterate over all the data\n",
        "losses, mu_mu, mu_std, std_a, std_b = [], [], [], [], []\n",
        "pyro.clear_param_store()"
      ],
      "execution_count": null,
      "outputs": [
        {
          "output_type": "stream",
          "name": "stdout",
          "text": [
            "[0.0, 10.0, 1.0, 0.1]\n",
            "[0.0, 10.0, 1.0, 0.1]\n"
          ]
        }
      ]
    },
    {
      "cell_type": "code",
      "metadata": {
        "colab": {
          "base_uri": "https://localhost:8080/"
        },
        "id": "_pLiLI_4dB0J",
        "outputId": "38c5960d-f8d7-42ee-fcd4-33859ab48e81"
      },
      "source": [
        "num_steps = 5000\n",
        "for t in range(num_steps):\n",
        "  loss=svi.step(params_prior)\n",
        "  losses.append(loss)\n",
        "  mu_mu.append(pyro.param(\"mu_mu\").item())\n",
        "  mu_std.append(pyro.param(\"mu_std\").item())\n",
        "  std_a.append(pyro.param(\"std_a\").item())\n",
        "  std_b.append(pyro.param(\"std_b\").item())\n",
        "  if (t%100==0):\n",
        "    print(\"{}  {}\".format(t,loss))"
      ],
      "execution_count": null,
      "outputs": [
        {
          "output_type": "stream",
          "name": "stderr",
          "text": [
            "/usr/local/lib/python3.7/dist-packages/pyro/util.py:289: UserWarning: Found non-auxiliary vars in guide but not model, consider marking these infer={'is_auxiliary': True}:\n",
            "{'data_dist'}\n",
            "  guide_vars - aux_vars - model_vars\n"
          ]
        },
        {
          "output_type": "stream",
          "name": "stdout",
          "text": [
            "0  42759.22332053028\n",
            "100  873.3904633153884\n",
            "200  683.0015059367879\n",
            "300  605.3812797556224\n",
            "400  525.569802015094\n",
            "500  399.3969756891663\n",
            "600  326.3080338875209\n",
            "700  354.90801757664343\n",
            "800  294.6100984503196\n",
            "900  306.04359678435964\n",
            "1000  282.95143113827714\n",
            "1100  456.68188510092546\n",
            "1200  286.1098047505621\n",
            "1300  332.1329225045455\n",
            "1400  280.60491947796004\n",
            "1500  287.7334063392784\n",
            "1600  279.87583027010334\n",
            "1700  421.69512285807446\n",
            "1800  275.2764377347747\n",
            "1900  281.95649356845735\n",
            "2000  282.72138925179206\n",
            "2100  278.1546367764883\n",
            "2200  284.26020899433047\n",
            "2300  290.7251926104258\n",
            "2400  280.242790178859\n",
            "2500  278.03862210868033\n",
            "2600  283.157852010458\n",
            "2700  289.6533569608065\n",
            "2800  278.4774530021065\n",
            "2900  302.1541815548395\n",
            "3000  295.7600426791035\n",
            "3100  276.3694150598285\n",
            "3200  276.60643432286633\n",
            "3300  278.7017634336397\n",
            "3400  283.88403285560355\n",
            "3500  280.3738766953596\n",
            "3600  278.1297188689971\n",
            "3700  277.9299250390163\n",
            "3800  278.84397560659727\n",
            "3900  277.786234426632\n",
            "4000  279.30252079571096\n",
            "4100  278.74101918887015\n",
            "4200  279.55901542211996\n",
            "4300  280.4207397303778\n",
            "4400  275.64953537622245\n",
            "4500  276.6965780602515\n",
            "4600  284.3427512828562\n",
            "4700  283.21654611096943\n",
            "4800  278.61710699500225\n",
            "4900  279.5163832904161\n"
          ]
        }
      ]
    },
    {
      "cell_type": "code",
      "metadata": {
        "colab": {
          "base_uri": "https://localhost:8080/",
          "height": 444
        },
        "id": "f8stmBIZjc77",
        "outputId": "40486250-350a-4e0e-b53a-da6d687c9f4c"
      },
      "source": [
        "\n",
        "# Convergence of the loss function\n",
        "plt.figure(num=None, figsize=(10, 6), dpi=80)\n",
        "plt.plot(losses)\n",
        "plt.title(\"ELBO\")\n",
        "plt.xlabel(\"Iteration\")\n",
        "plt.ylabel(\"loss\")\n",
        "# plt.savefig(\"images/elbo.png\")\n",
        "plt.show()"
      ],
      "execution_count": null,
      "outputs": [
        {
          "output_type": "display_data",
          "data": {
            "image/png": "[encoded data removed]",
            "text/plain": [
              "<Figure size 800x480 with 1 Axes>"
            ]
          },
          "metadata": {
            "needs_background": "light"
          }
        }
      ]
    },
    {
      "cell_type": "code",
      "metadata": {
        "colab": {
          "base_uri": "https://localhost:8080/",
          "height": 413
        },
        "id": "8eqn-9v2jolh",
        "outputId": "966c5c2f-c0df-4e70-ec11-04c5c5f34993"
      },
      "source": [
        "plt.figure(num=None, figsize=(10, 6), dpi=80)\n",
        "plt.subplot(2, 2, 1)\n",
        "plt.plot(mu_mu)\n",
        "plt.ylabel(\"mu_mu\")\n",
        "\n",
        "plt.subplot(2, 2, 2)\n",
        "plt.ylabel(\"mu_std\")\n",
        "plt.plot(mu_std)\n",
        "\n",
        "plt.subplot(2, 2, 3)\n",
        "plt.ylabel(\"std_a\")\n",
        "plt.plot(std_a)\n",
        "\n",
        "plt.subplot(2, 2, 4)\n",
        "plt.ylabel(\"std_b\")\n",
        "plt.plot(std_b)\n",
        "# plt.savefig(\"images/params.png\")\n",
        "plt.show()"
      ],
      "execution_count": null,
      "outputs": [
        {
          "output_type": "display_data",
          "data": {
            "image/png": "[encoded data removed]",
            "text/plain": [
              "<Figure size 800x480 with 4 Axes>"
            ]
          },
          "metadata": {
            "needs_background": "light"
          }
        }
      ]
    },
    {
      "cell_type": "code",
      "metadata": {
        "colab": {
          "base_uri": "https://localhost:8080/",
          "height": 444
        },
        "id": "9udHQ-PVjyrc",
        "outputId": "eb00c312-0afe-4af1-b0ff-2715e57d2038"
      },
      "source": [
        "# Plot mean distributions\n",
        "plt.figure(num=None, figsize=(10, 6), dpi=80)\n",
        "mu_prior_dist = norm(loc=mu_prior[0], scale=mu_prior[1])\n",
        "x_range = np.linspace(mu_prior_dist.ppf(0.01), mu_prior_dist.ppf(0.99), num=100)\n",
        "y_values = mu_prior_dist.pdf(x_range)\n",
        "plt.plot(x_range, y_values, label=\"prior\")\n",
        "\n",
        "mu_post_dist = norm(loc=mu_mu[-1], scale=mu_std[-1])\n",
        "x_range = np.linspace(mu_post_dist.ppf(0.01), mu_post_dist.ppf(0.99), num=100)\n",
        "y_values = mu_post_dist.pdf(x_range)\n",
        "plt.plot(x_range, y_values, label=\"posterior\")\n",
        "\n",
        "plt.xlabel(\"x\")\n",
        "plt.ylabel(\"prob(x)\")\n",
        "plt.title(\"Mean PDF\")\n",
        "plt.legend()\n",
        "# plt.savefig(\"images/mean_dist.png\")\n",
        "plt.show()"
      ],
      "execution_count": null,
      "outputs": [
        {
          "output_type": "display_data",
          "data": {
            "image/png": "[encoded data removed]",
            "text/plain": [
              "<Figure size 800x480 with 1 Axes>"
            ]
          },
          "metadata": {
            "needs_background": "light"
          }
        }
      ]
    },
    {
      "cell_type": "code",
      "metadata": {
        "id": "Z3qO5fxbk48c"
      },
      "source": [
        "pyro.distributions.enable_validation(False)"
      ],
      "execution_count": null,
      "outputs": []
    },
    {
      "cell_type": "code",
      "metadata": {
        "colab": {
          "base_uri": "https://localhost:8080/",
          "height": 429
        },
        "id": "cPy4DrH4j-lV",
        "outputId": "15bce1ef-4116-4e9c-b392-6f3e5992e440"
      },
      "source": [
        "\n",
        "# Plot std distributions\n",
        "plt.figure(num=None, figsize=(10, 6), dpi=80)\n",
        "x_range = np.linspace(0, 10, num=100)\n",
        "\n",
        "std_prior_dist = dist.Gamma(std_prior[0], std_prior[1])\n",
        "y_values = torch.exp(std_prior_dist.log_prob(x_range))\n",
        "plt.plot(x_range, y_values, label=\"prior\")\n",
        "\n",
        "std_post_dist = dist.Gamma(std_a[-1], std_b[-1])\n",
        "y_values = torch.exp(std_post_dist.log_prob(x_range))\n",
        "plt.plot(x_range, y_values, label=\"posterior\")\n",
        "\n",
        "plt.title(\"Standard Deviation PDF\")\n",
        "plt.legend()\n",
        "# plt.savefig(\"images/std_dist.png\")\n",
        "plt.show()"
      ],
      "execution_count": null,
      "outputs": [
        {
          "output_type": "display_data",
          "data": {
            "image/png": "[encoded data removed]",
            "text/plain": [
              "<Figure size 800x480 with 1 Axes>"
            ]
          },
          "metadata": {
            "needs_background": "light"
          }
        }
      ]
    },
    {
      "cell_type": "code",
      "metadata": {
        "id": "eesQdXHgyXT3"
      },
      "source": [
        "import torch\n",
        "import pyro\n",
        "\n",
        "import matplotlib.pyplot as plt\n",
        "import numpy as np\n",
        "\n",
        "import pyro.infer\n",
        "import pyro.optim\n",
        "import pyro.distributions as dist\n",
        "from torch.distributions import constraints\n",
        "\n"
      ],
      "execution_count": null,
      "outputs": []
    },
    {
      "cell_type": "code",
      "metadata": {
        "colab": {
          "base_uri": "https://localhost:8080/"
        },
        "id": "8rBvlwE5bDcs",
        "outputId": "df8e5789-818c-4605-a213-465c008701e7"
      },
      "source": [
        "n = 1000\n",
        "x = np.random.randn(n, 1)\n",
        "std = 4\n",
        "mu = 2\n",
        "x = x * std + mu\n",
        "\n",
        "print(f\"Shape: {x.shape}\")\n",
        "print(f\"Mean: {np.mean(x)}\")\n",
        "print(f\"Standard deviation: {np.std(x)}\")\n"
      ],
      "execution_count": null,
      "outputs": [
        {
          "name": "stdout",
          "output_type": "stream",
          "text": [
            "Shape: (1000, 1)\n",
            "Mean: 1.912343282730119\n",
            "Standard deviation: 3.9208018188088922\n"
          ]
        }
      ]
    },
    {
      "cell_type": "code",
      "metadata": {
        "id": "XlZ8msr3bFL7"
      },
      "source": [
        "def data_model(params):\n",
        "    mu_dist = pyro.sample(\"mu_dist\", dist.Normal(params[0], params[1]).independent(1))\n",
        "    std_dist = pyro.sample(\n",
        "        \"std_dist\", dist.Gamma(np.abs(params[2]), np.abs(params[3]).independent(1))\n",
        "    )\n",
        "    return pyro.sample(\"data_dist\", dist.Normal(mu_dist, std_dist).independent(1))\n",
        "\n",
        "\n",
        "conditioned_data_model = pyro.condition(\n",
        "    data_model, data={\"data_dist\": torch.tensor(x.flatten())}\n",
        ")"
      ],
      "execution_count": null,
      "outputs": []
    },
    {
      "cell_type": "code",
      "metadata": {
        "id": "K34qmpHobJS3"
      },
      "source": [
        "def parametrised_guide(params):\n",
        "    mu_mu = pyro.param(\"mu_mu\", torch.tensor(params[0]))\n",
        "    mu_std = pyro.param(\n",
        "        \"mu_std\", torch.tensor(params[1]), constraint=constraints.positive\n",
        "    )\n",
        "    std_a = pyro.param(\n",
        "        \"std_a\", torch.tensor(params[2]), constraint=constraints.positive\n",
        "    )\n",
        "    std_b = pyro.param(\n",
        "        \"std_b\", torch.tensor(params[3]), constraint=constraints.positive\n",
        "    )\n",
        "\n",
        "    mu_dist = pyro.sample(\"mu_dist\", dist.Normal(mu_mu, mu_std).independent(1))\n",
        "    std_dist = pyro.sample(\"std_dist\", dist.Gamma(std_a, std_b).independent(1))\n",
        "    return pyro.sample(\"data_dist\", dist.Normal(mu_dist, std_dist).independent(1))"
      ],
      "execution_count": null,
      "outputs": []
    },
    {
      "cell_type": "code",
      "metadata": {
        "id": "phy0LEICbN0M"
      },
      "source": [
        "svi = pyro.infer.SVI(\n",
        "    model=conditioned_data_model,\n",
        "    guide=parametrised_guide,\n",
        "    optim=pyro.optim.SGD({\"lr\": 0.00001, \"momentum\": 0.8}),\n",
        "    loss=pyro.infer.Trace_ELBO(),\n",
        ")"
      ],
      "execution_count": null,
      "outputs": []
    },
    {
      "cell_type": "code",
      "metadata": {
        "id": "q56zifLabQ4s"
      },
      "source": [
        "\n",
        "mu_prior = [0.0, 10.0]  # Gaussian - mu, std\n",
        "std_prior = [1.0, 0.1]  # Gamma - a, b\n",
        "params_prior = mu_prior + std_prior\n",
        "\n",
        "# Iterate over all the data\n",
        "losses, mu_mu, mu_std, std_a, std_b = [], [], [], [], []\n",
        "pyro.clear_param_store()"
      ],
      "execution_count": null,
      "outputs": []
    },
    {
      "cell_type": "code",
      "metadata": {
        "colab": {
          "base_uri": "https://localhost:8080/",
          "height": 545
        },
        "id": "N8p-Yf3NbTZK",
        "outputId": "99ed8e90-0808-44a1-ef6f-4a6a4e6329a1"
      },
      "source": [
        "num_steps = 5000\n",
        "for t in range(num_steps):\n",
        "    losses.append(svi.step(params_prior))\n",
        "    mu_mu.append(pyro.param(\"mu_mu\").item())\n",
        "    mu_std.append(pyro.param(\"mu_std\").item())\n",
        "    std_a.append(pyro.param(\"std_a\").item())\n",
        "    std_b.append(pyro.param(\"std_b\").item())"
      ],
      "execution_count": null,
      "outputs": [
        {
          "ename": "ValueError",
          "evalue": "ignored",
          "output_type": "error",
          "traceback": [
            "\u001b[0;31m---------------------------------------------------------------------------\u001b[0m",
            "\u001b[0;31mValueError\u001b[0m                                Traceback (most recent call last)",
            "\u001b[0;32m/usr/local/lib/python3.7/dist-packages/pyro/poutine/trace_messenger.py\u001b[0m in \u001b[0;36m__call__\u001b[0;34m(self, *args, **kwargs)\u001b[0m\n\u001b[1;32m    173\u001b[0m             \u001b[0;32mtry\u001b[0m\u001b[0;34m:\u001b[0m\u001b[0;34m\u001b[0m\u001b[0;34m\u001b[0m\u001b[0m\n\u001b[0;32m--> 174\u001b[0;31m                 \u001b[0mret\u001b[0m \u001b[0;34m=\u001b[0m \u001b[0mself\u001b[0m\u001b[0;34m.\u001b[0m\u001b[0mfn\u001b[0m\u001b[0;34m(\u001b[0m\u001b[0;34m*\u001b[0m\u001b[0margs\u001b[0m\u001b[0;34m,\u001b[0m \u001b[0;34m**\u001b[0m\u001b[0mkwargs\u001b[0m\u001b[0;34m)\u001b[0m\u001b[0;34m\u001b[0m\u001b[0;34m\u001b[0m\u001b[0m\n\u001b[0m\u001b[1;32m    175\u001b[0m             \u001b[0;32mexcept\u001b[0m \u001b[0;34m(\u001b[0m\u001b[0mValueError\u001b[0m\u001b[0;34m,\u001b[0m \u001b[0mRuntimeError\u001b[0m\u001b[0;34m)\u001b[0m \u001b[0;32mas\u001b[0m \u001b[0me\u001b[0m\u001b[0;34m:\u001b[0m\u001b[0;34m\u001b[0m\u001b[0;34m\u001b[0m\u001b[0m\n",
            "\u001b[0;32m<ipython-input-642-99a19e6bf841>\u001b[0m in \u001b[0;36mparametrised_guide\u001b[0;34m(params)\u001b[0m\n\u001b[1;32m     12\u001b[0m \u001b[0;34m\u001b[0m\u001b[0m\n\u001b[0;32m---> 13\u001b[0;31m     \u001b[0mmu_dist\u001b[0m \u001b[0;34m=\u001b[0m \u001b[0mpyro\u001b[0m\u001b[0;34m.\u001b[0m\u001b[0msample\u001b[0m\u001b[0;34m(\u001b[0m\u001b[0;34m\"mu_dist\"\u001b[0m\u001b[0;34m,\u001b[0m \u001b[0mdist\u001b[0m\u001b[0;34m.\u001b[0m\u001b[0mNormal\u001b[0m\u001b[0;34m(\u001b[0m\u001b[0mmu_mu\u001b[0m\u001b[0;34m,\u001b[0m \u001b[0mmu_std\u001b[0m\u001b[0;34m)\u001b[0m\u001b[0;34m.\u001b[0m\u001b[0mindependent\u001b[0m\u001b[0;34m(\u001b[0m\u001b[0;36m1\u001b[0m\u001b[0;34m)\u001b[0m\u001b[0;34m)\u001b[0m\u001b[0;34m\u001b[0m\u001b[0;34m\u001b[0m\u001b[0m\n\u001b[0m\u001b[1;32m     14\u001b[0m     \u001b[0mstd_dist\u001b[0m \u001b[0;34m=\u001b[0m \u001b[0mpyro\u001b[0m\u001b[0;34m.\u001b[0m\u001b[0msample\u001b[0m\u001b[0;34m(\u001b[0m\u001b[0;34m\"std_dist\"\u001b[0m\u001b[0;34m,\u001b[0m \u001b[0mdist\u001b[0m\u001b[0;34m.\u001b[0m\u001b[0mGamma\u001b[0m\u001b[0;34m(\u001b[0m\u001b[0mstd_a\u001b[0m\u001b[0;34m,\u001b[0m \u001b[0mstd_b\u001b[0m\u001b[0;34m)\u001b[0m\u001b[0;34m.\u001b[0m\u001b[0mindependent\u001b[0m\u001b[0;34m(\u001b[0m\u001b[0;36m1\u001b[0m\u001b[0;34m)\u001b[0m\u001b[0;34m)\u001b[0m\u001b[0;34m\u001b[0m\u001b[0;34m\u001b[0m\u001b[0m\n",
            "\u001b[0;32m/usr/local/lib/python3.7/dist-packages/pyro/distributions/torch_distribution.py\u001b[0m in \u001b[0;36mindependent\u001b[0;34m(self, reinterpreted_batch_ndims)\u001b[0m\n\u001b[1;32m    201\u001b[0m         )\n\u001b[0;32m--> 202\u001b[0;31m         \u001b[0;32mreturn\u001b[0m \u001b[0mself\u001b[0m\u001b[0;34m.\u001b[0m\u001b[0mto_event\u001b[0m\u001b[0;34m(\u001b[0m\u001b[0mreinterpreted_batch_ndims\u001b[0m\u001b[0;34m=\u001b[0m\u001b[0mreinterpreted_batch_ndims\u001b[0m\u001b[0;34m)\u001b[0m\u001b[0;34m\u001b[0m\u001b[0;34m\u001b[0m\u001b[0m\n\u001b[0m\u001b[1;32m    203\u001b[0m \u001b[0;34m\u001b[0m\u001b[0m\n",
            "\u001b[0;32m/usr/local/lib/python3.7/dist-packages/pyro/distributions/torch_distribution.py\u001b[0m in \u001b[0;36mto_event\u001b[0;34m(self, reinterpreted_batch_ndims)\u001b[0m\n\u001b[1;32m    194\u001b[0m         return pyro.distributions.torch.Independent(\n\u001b[0;32m--> 195\u001b[0;31m             \u001b[0mbase_dist\u001b[0m\u001b[0;34m,\u001b[0m \u001b[0mreinterpreted_batch_ndims\u001b[0m\u001b[0;34m\u001b[0m\u001b[0;34m\u001b[0m\u001b[0m\n\u001b[0m\u001b[1;32m    196\u001b[0m         )\n",
            "\u001b[0;32m/usr/local/lib/python3.7/dist-packages/pyro/distributions/distribution.py\u001b[0m in \u001b[0;36m__call__\u001b[0;34m(cls, *args, **kwargs)\u001b[0m\n\u001b[1;32m     17\u001b[0m                 \u001b[0;32mreturn\u001b[0m \u001b[0mresult\u001b[0m\u001b[0;34m\u001b[0m\u001b[0;34m\u001b[0m\u001b[0m\n\u001b[0;32m---> 18\u001b[0;31m         \u001b[0;32mreturn\u001b[0m \u001b[0msuper\u001b[0m\u001b[0;34m(\u001b[0m\u001b[0;34m)\u001b[0m\u001b[0;34m.\u001b[0m\u001b[0m__call__\u001b[0m\u001b[0;34m(\u001b[0m\u001b[0;34m*\u001b[0m\u001b[0margs\u001b[0m\u001b[0;34m,\u001b[0m \u001b[0;34m**\u001b[0m\u001b[0mkwargs\u001b[0m\u001b[0;34m)\u001b[0m\u001b[0;34m\u001b[0m\u001b[0;34m\u001b[0m\u001b[0m\n\u001b[0m\u001b[1;32m     19\u001b[0m \u001b[0;34m\u001b[0m\u001b[0m\n",
            "\u001b[0;32m/usr/local/lib/python3.7/dist-packages/torch/distributions/independent.py\u001b[0m in \u001b[0;36m__init__\u001b[0;34m(self, base_distribution, reinterpreted_batch_ndims, validate_args)\u001b[0m\n\u001b[1;32m     39\u001b[0m                              \"actual {} vs {}\".format(reinterpreted_batch_ndims,\n\u001b[0;32m---> 40\u001b[0;31m                                                       len(base_distribution.batch_shape)))\n\u001b[0m\u001b[1;32m     41\u001b[0m         \u001b[0mshape\u001b[0m \u001b[0;34m=\u001b[0m \u001b[0mbase_distribution\u001b[0m\u001b[0;34m.\u001b[0m\u001b[0mbatch_shape\u001b[0m \u001b[0;34m+\u001b[0m \u001b[0mbase_distribution\u001b[0m\u001b[0;34m.\u001b[0m\u001b[0mevent_shape\u001b[0m\u001b[0;34m\u001b[0m\u001b[0;34m\u001b[0m\u001b[0m\n",
            "\u001b[0;31mValueError\u001b[0m: Expected reinterpreted_batch_ndims <= len(base_distribution.batch_shape), actual 1 vs 0",
            "\nThe above exception was the direct cause of the following exception:\n",
            "\u001b[0;31mValueError\u001b[0m                                Traceback (most recent call last)",
            "\u001b[0;32m<ipython-input-645-95b1b50dcee4>\u001b[0m in \u001b[0;36m<module>\u001b[0;34m()\u001b[0m\n\u001b[1;32m      1\u001b[0m \u001b[0mnum_steps\u001b[0m \u001b[0;34m=\u001b[0m \u001b[0;36m5000\u001b[0m\u001b[0;34m\u001b[0m\u001b[0;34m\u001b[0m\u001b[0m\n\u001b[1;32m      2\u001b[0m \u001b[0;32mfor\u001b[0m \u001b[0mt\u001b[0m \u001b[0;32min\u001b[0m \u001b[0mrange\u001b[0m\u001b[0;34m(\u001b[0m\u001b[0mnum_steps\u001b[0m\u001b[0;34m)\u001b[0m\u001b[0;34m:\u001b[0m\u001b[0;34m\u001b[0m\u001b[0;34m\u001b[0m\u001b[0m\n\u001b[0;32m----> 3\u001b[0;31m     \u001b[0mlosses\u001b[0m\u001b[0;34m.\u001b[0m\u001b[0mappend\u001b[0m\u001b[0;34m(\u001b[0m\u001b[0msvi\u001b[0m\u001b[0;34m.\u001b[0m\u001b[0mstep\u001b[0m\u001b[0;34m(\u001b[0m\u001b[0mparams_prior\u001b[0m\u001b[0;34m)\u001b[0m\u001b[0;34m)\u001b[0m\u001b[0;34m\u001b[0m\u001b[0;34m\u001b[0m\u001b[0m\n\u001b[0m\u001b[1;32m      4\u001b[0m     \u001b[0mmu_mu\u001b[0m\u001b[0;34m.\u001b[0m\u001b[0mappend\u001b[0m\u001b[0;34m(\u001b[0m\u001b[0mpyro\u001b[0m\u001b[0;34m.\u001b[0m\u001b[0mparam\u001b[0m\u001b[0;34m(\u001b[0m\u001b[0;34m\"mu_mu\"\u001b[0m\u001b[0;34m)\u001b[0m\u001b[0;34m.\u001b[0m\u001b[0mitem\u001b[0m\u001b[0;34m(\u001b[0m\u001b[0;34m)\u001b[0m\u001b[0;34m)\u001b[0m\u001b[0;34m\u001b[0m\u001b[0;34m\u001b[0m\u001b[0m\n\u001b[1;32m      5\u001b[0m     \u001b[0mmu_std\u001b[0m\u001b[0;34m.\u001b[0m\u001b[0mappend\u001b[0m\u001b[0;34m(\u001b[0m\u001b[0mpyro\u001b[0m\u001b[0;34m.\u001b[0m\u001b[0mparam\u001b[0m\u001b[0;34m(\u001b[0m\u001b[0;34m\"mu_std\"\u001b[0m\u001b[0;34m)\u001b[0m\u001b[0;34m.\u001b[0m\u001b[0mitem\u001b[0m\u001b[0;34m(\u001b[0m\u001b[0;34m)\u001b[0m\u001b[0;34m)\u001b[0m\u001b[0;34m\u001b[0m\u001b[0;34m\u001b[0m\u001b[0m\n",
            "\u001b[0;32m/usr/local/lib/python3.7/dist-packages/pyro/infer/svi.py\u001b[0m in \u001b[0;36mstep\u001b[0;34m(self, *args, **kwargs)\u001b[0m\n\u001b[1;32m    143\u001b[0m         \u001b[0;31m# get loss and compute gradients\u001b[0m\u001b[0;34m\u001b[0m\u001b[0;34m\u001b[0m\u001b[0;34m\u001b[0m\u001b[0m\n\u001b[1;32m    144\u001b[0m         \u001b[0;32mwith\u001b[0m \u001b[0mpoutine\u001b[0m\u001b[0;34m.\u001b[0m\u001b[0mtrace\u001b[0m\u001b[0;34m(\u001b[0m\u001b[0mparam_only\u001b[0m\u001b[0;34m=\u001b[0m\u001b[0;32mTrue\u001b[0m\u001b[0;34m)\u001b[0m \u001b[0;32mas\u001b[0m \u001b[0mparam_capture\u001b[0m\u001b[0;34m:\u001b[0m\u001b[0;34m\u001b[0m\u001b[0;34m\u001b[0m\u001b[0m\n\u001b[0;32m--> 145\u001b[0;31m             \u001b[0mloss\u001b[0m \u001b[0;34m=\u001b[0m \u001b[0mself\u001b[0m\u001b[0;34m.\u001b[0m\u001b[0mloss_and_grads\u001b[0m\u001b[0;34m(\u001b[0m\u001b[0mself\u001b[0m\u001b[0;34m.\u001b[0m\u001b[0mmodel\u001b[0m\u001b[0;34m,\u001b[0m \u001b[0mself\u001b[0m\u001b[0;34m.\u001b[0m\u001b[0mguide\u001b[0m\u001b[0;34m,\u001b[0m \u001b[0;34m*\u001b[0m\u001b[0margs\u001b[0m\u001b[0;34m,\u001b[0m \u001b[0;34m**\u001b[0m\u001b[0mkwargs\u001b[0m\u001b[0;34m)\u001b[0m\u001b[0;34m\u001b[0m\u001b[0;34m\u001b[0m\u001b[0m\n\u001b[0m\u001b[1;32m    146\u001b[0m \u001b[0;34m\u001b[0m\u001b[0m\n\u001b[1;32m    147\u001b[0m         params = set(\n",
            "\u001b[0;32m/usr/local/lib/python3.7/dist-packages/pyro/infer/trace_elbo.py\u001b[0m in \u001b[0;36mloss_and_grads\u001b[0;34m(self, model, guide, *args, **kwargs)\u001b[0m\n\u001b[1;32m    138\u001b[0m         \u001b[0mloss\u001b[0m \u001b[0;34m=\u001b[0m \u001b[0;36m0.0\u001b[0m\u001b[0;34m\u001b[0m\u001b[0;34m\u001b[0m\u001b[0m\n\u001b[1;32m    139\u001b[0m         \u001b[0;31m# grab a trace from the generator\u001b[0m\u001b[0;34m\u001b[0m\u001b[0;34m\u001b[0m\u001b[0;34m\u001b[0m\u001b[0m\n\u001b[0;32m--> 140\u001b[0;31m         \u001b[0;32mfor\u001b[0m \u001b[0mmodel_trace\u001b[0m\u001b[0;34m,\u001b[0m \u001b[0mguide_trace\u001b[0m \u001b[0;32min\u001b[0m \u001b[0mself\u001b[0m\u001b[0;34m.\u001b[0m\u001b[0m_get_traces\u001b[0m\u001b[0;34m(\u001b[0m\u001b[0mmodel\u001b[0m\u001b[0;34m,\u001b[0m \u001b[0mguide\u001b[0m\u001b[0;34m,\u001b[0m \u001b[0margs\u001b[0m\u001b[0;34m,\u001b[0m \u001b[0mkwargs\u001b[0m\u001b[0;34m)\u001b[0m\u001b[0;34m:\u001b[0m\u001b[0;34m\u001b[0m\u001b[0;34m\u001b[0m\u001b[0m\n\u001b[0m\u001b[1;32m    141\u001b[0m             loss_particle, surrogate_loss_particle = self._differentiable_loss_particle(\n\u001b[1;32m    142\u001b[0m                 \u001b[0mmodel_trace\u001b[0m\u001b[0;34m,\u001b[0m \u001b[0mguide_trace\u001b[0m\u001b[0;34m\u001b[0m\u001b[0;34m\u001b[0m\u001b[0m\n",
            "\u001b[0;32m/usr/local/lib/python3.7/dist-packages/pyro/infer/elbo.py\u001b[0m in \u001b[0;36m_get_traces\u001b[0;34m(self, model, guide, args, kwargs)\u001b[0m\n\u001b[1;32m    184\u001b[0m         \u001b[0;32melse\u001b[0m\u001b[0;34m:\u001b[0m\u001b[0;34m\u001b[0m\u001b[0;34m\u001b[0m\u001b[0m\n\u001b[1;32m    185\u001b[0m             \u001b[0;32mfor\u001b[0m \u001b[0mi\u001b[0m \u001b[0;32min\u001b[0m \u001b[0mrange\u001b[0m\u001b[0;34m(\u001b[0m\u001b[0mself\u001b[0m\u001b[0;34m.\u001b[0m\u001b[0mnum_particles\u001b[0m\u001b[0;34m)\u001b[0m\u001b[0;34m:\u001b[0m\u001b[0;34m\u001b[0m\u001b[0;34m\u001b[0m\u001b[0m\n\u001b[0;32m--> 186\u001b[0;31m                 \u001b[0;32myield\u001b[0m \u001b[0mself\u001b[0m\u001b[0;34m.\u001b[0m\u001b[0m_get_trace\u001b[0m\u001b[0;34m(\u001b[0m\u001b[0mmodel\u001b[0m\u001b[0;34m,\u001b[0m \u001b[0mguide\u001b[0m\u001b[0;34m,\u001b[0m \u001b[0margs\u001b[0m\u001b[0;34m,\u001b[0m \u001b[0mkwargs\u001b[0m\u001b[0;34m)\u001b[0m\u001b[0;34m\u001b[0m\u001b[0;34m\u001b[0m\u001b[0m\n\u001b[0m",
            "\u001b[0;32m/usr/local/lib/python3.7/dist-packages/pyro/infer/trace_elbo.py\u001b[0m in \u001b[0;36m_get_trace\u001b[0;34m(self, model, guide, args, kwargs)\u001b[0m\n\u001b[1;32m     56\u001b[0m         \"\"\"\n\u001b[1;32m     57\u001b[0m         model_trace, guide_trace = get_importance_trace(\n\u001b[0;32m---> 58\u001b[0;31m             \u001b[0;34m\"flat\"\u001b[0m\u001b[0;34m,\u001b[0m \u001b[0mself\u001b[0m\u001b[0;34m.\u001b[0m\u001b[0mmax_plate_nesting\u001b[0m\u001b[0;34m,\u001b[0m \u001b[0mmodel\u001b[0m\u001b[0;34m,\u001b[0m \u001b[0mguide\u001b[0m\u001b[0;34m,\u001b[0m \u001b[0margs\u001b[0m\u001b[0;34m,\u001b[0m \u001b[0mkwargs\u001b[0m\u001b[0;34m\u001b[0m\u001b[0;34m\u001b[0m\u001b[0m\n\u001b[0m\u001b[1;32m     59\u001b[0m         )\n\u001b[1;32m     60\u001b[0m         \u001b[0;32mif\u001b[0m \u001b[0mis_validation_enabled\u001b[0m\u001b[0;34m(\u001b[0m\u001b[0;34m)\u001b[0m\u001b[0;34m:\u001b[0m\u001b[0;34m\u001b[0m\u001b[0;34m\u001b[0m\u001b[0m\n",
            "\u001b[0;32m/usr/local/lib/python3.7/dist-packages/pyro/infer/enum.py\u001b[0m in \u001b[0;36mget_importance_trace\u001b[0;34m(graph_type, max_plate_nesting, model, guide, args, kwargs, detach)\u001b[0m\n\u001b[1;32m     50\u001b[0m     \u001b[0;32mand\u001b[0m \u001b[0mthe\u001b[0m \u001b[0mmodel\u001b[0m \u001b[0mthat\u001b[0m \u001b[0;32mis\u001b[0m \u001b[0mrun\u001b[0m \u001b[0magainst\u001b[0m \u001b[0mit\u001b[0m\u001b[0;34m.\u001b[0m\u001b[0;34m\u001b[0m\u001b[0;34m\u001b[0m\u001b[0m\n\u001b[1;32m     51\u001b[0m     \"\"\"\n\u001b[0;32m---> 52\u001b[0;31m     \u001b[0mguide_trace\u001b[0m \u001b[0;34m=\u001b[0m \u001b[0mpoutine\u001b[0m\u001b[0;34m.\u001b[0m\u001b[0mtrace\u001b[0m\u001b[0;34m(\u001b[0m\u001b[0mguide\u001b[0m\u001b[0;34m,\u001b[0m \u001b[0mgraph_type\u001b[0m\u001b[0;34m=\u001b[0m\u001b[0mgraph_type\u001b[0m\u001b[0;34m)\u001b[0m\u001b[0;34m.\u001b[0m\u001b[0mget_trace\u001b[0m\u001b[0;34m(\u001b[0m\u001b[0;34m*\u001b[0m\u001b[0margs\u001b[0m\u001b[0;34m,\u001b[0m \u001b[0;34m**\u001b[0m\u001b[0mkwargs\u001b[0m\u001b[0;34m)\u001b[0m\u001b[0;34m\u001b[0m\u001b[0;34m\u001b[0m\u001b[0m\n\u001b[0m\u001b[1;32m     53\u001b[0m     \u001b[0;32mif\u001b[0m \u001b[0mdetach\u001b[0m\u001b[0;34m:\u001b[0m\u001b[0;34m\u001b[0m\u001b[0;34m\u001b[0m\u001b[0m\n\u001b[1;32m     54\u001b[0m         \u001b[0mguide_trace\u001b[0m\u001b[0;34m.\u001b[0m\u001b[0mdetach_\u001b[0m\u001b[0;34m(\u001b[0m\u001b[0;34m)\u001b[0m\u001b[0;34m\u001b[0m\u001b[0;34m\u001b[0m\u001b[0m\n",
            "\u001b[0;32m/usr/local/lib/python3.7/dist-packages/pyro/poutine/trace_messenger.py\u001b[0m in \u001b[0;36mget_trace\u001b[0;34m(self, *args, **kwargs)\u001b[0m\n\u001b[1;32m    196\u001b[0m         \u001b[0mCalls\u001b[0m \u001b[0mthis\u001b[0m \u001b[0mpoutine\u001b[0m \u001b[0;32mand\u001b[0m \u001b[0mreturns\u001b[0m \u001b[0mits\u001b[0m \u001b[0mtrace\u001b[0m \u001b[0minstead\u001b[0m \u001b[0mof\u001b[0m \u001b[0mthe\u001b[0m \u001b[0mfunction\u001b[0m\u001b[0;31m'\u001b[0m\u001b[0ms\u001b[0m \u001b[0;32mreturn\u001b[0m \u001b[0mvalue\u001b[0m\u001b[0;34m.\u001b[0m\u001b[0;34m\u001b[0m\u001b[0;34m\u001b[0m\u001b[0m\n\u001b[1;32m    197\u001b[0m         \"\"\"\n\u001b[0;32m--> 198\u001b[0;31m         \u001b[0mself\u001b[0m\u001b[0;34m(\u001b[0m\u001b[0;34m*\u001b[0m\u001b[0margs\u001b[0m\u001b[0;34m,\u001b[0m \u001b[0;34m**\u001b[0m\u001b[0mkwargs\u001b[0m\u001b[0;34m)\u001b[0m\u001b[0;34m\u001b[0m\u001b[0;34m\u001b[0m\u001b[0m\n\u001b[0m\u001b[1;32m    199\u001b[0m         \u001b[0;32mreturn\u001b[0m \u001b[0mself\u001b[0m\u001b[0;34m.\u001b[0m\u001b[0mmsngr\u001b[0m\u001b[0;34m.\u001b[0m\u001b[0mget_trace\u001b[0m\u001b[0;34m(\u001b[0m\u001b[0;34m)\u001b[0m\u001b[0;34m\u001b[0m\u001b[0;34m\u001b[0m\u001b[0m\n",
            "\u001b[0;32m/usr/local/lib/python3.7/dist-packages/pyro/poutine/trace_messenger.py\u001b[0m in \u001b[0;36m__call__\u001b[0;34m(self, *args, **kwargs)\u001b[0m\n\u001b[1;32m    178\u001b[0m                 \u001b[0mexc\u001b[0m \u001b[0;34m=\u001b[0m \u001b[0mexc_type\u001b[0m\u001b[0;34m(\u001b[0m\u001b[0;34mu\"{}\\n{}\"\u001b[0m\u001b[0;34m.\u001b[0m\u001b[0mformat\u001b[0m\u001b[0;34m(\u001b[0m\u001b[0mexc_value\u001b[0m\u001b[0;34m,\u001b[0m \u001b[0mshapes\u001b[0m\u001b[0;34m)\u001b[0m\u001b[0;34m)\u001b[0m\u001b[0;34m\u001b[0m\u001b[0;34m\u001b[0m\u001b[0m\n\u001b[1;32m    179\u001b[0m                 \u001b[0mexc\u001b[0m \u001b[0;34m=\u001b[0m \u001b[0mexc\u001b[0m\u001b[0;34m.\u001b[0m\u001b[0mwith_traceback\u001b[0m\u001b[0;34m(\u001b[0m\u001b[0mtraceback\u001b[0m\u001b[0;34m)\u001b[0m\u001b[0;34m\u001b[0m\u001b[0;34m\u001b[0m\u001b[0m\n\u001b[0;32m--> 180\u001b[0;31m                 \u001b[0;32mraise\u001b[0m \u001b[0mexc\u001b[0m \u001b[0;32mfrom\u001b[0m \u001b[0me\u001b[0m\u001b[0;34m\u001b[0m\u001b[0;34m\u001b[0m\u001b[0m\n\u001b[0m\u001b[1;32m    181\u001b[0m             self.msngr.trace.add_node(\n\u001b[1;32m    182\u001b[0m                 \u001b[0;34m\"_RETURN\"\u001b[0m\u001b[0;34m,\u001b[0m \u001b[0mname\u001b[0m\u001b[0;34m=\u001b[0m\u001b[0;34m\"_RETURN\"\u001b[0m\u001b[0;34m,\u001b[0m \u001b[0mtype\u001b[0m\u001b[0;34m=\u001b[0m\u001b[0;34m\"return\"\u001b[0m\u001b[0;34m,\u001b[0m \u001b[0mvalue\u001b[0m\u001b[0;34m=\u001b[0m\u001b[0mret\u001b[0m\u001b[0;34m\u001b[0m\u001b[0;34m\u001b[0m\u001b[0m\n",
            "\u001b[0;32m/usr/local/lib/python3.7/dist-packages/pyro/poutine/trace_messenger.py\u001b[0m in \u001b[0;36m__call__\u001b[0;34m(self, *args, **kwargs)\u001b[0m\n\u001b[1;32m    172\u001b[0m             )\n\u001b[1;32m    173\u001b[0m             \u001b[0;32mtry\u001b[0m\u001b[0;34m:\u001b[0m\u001b[0;34m\u001b[0m\u001b[0;34m\u001b[0m\u001b[0m\n\u001b[0;32m--> 174\u001b[0;31m                 \u001b[0mret\u001b[0m \u001b[0;34m=\u001b[0m \u001b[0mself\u001b[0m\u001b[0;34m.\u001b[0m\u001b[0mfn\u001b[0m\u001b[0;34m(\u001b[0m\u001b[0;34m*\u001b[0m\u001b[0margs\u001b[0m\u001b[0;34m,\u001b[0m \u001b[0;34m**\u001b[0m\u001b[0mkwargs\u001b[0m\u001b[0;34m)\u001b[0m\u001b[0;34m\u001b[0m\u001b[0;34m\u001b[0m\u001b[0m\n\u001b[0m\u001b[1;32m    175\u001b[0m             \u001b[0;32mexcept\u001b[0m \u001b[0;34m(\u001b[0m\u001b[0mValueError\u001b[0m\u001b[0;34m,\u001b[0m \u001b[0mRuntimeError\u001b[0m\u001b[0;34m)\u001b[0m \u001b[0;32mas\u001b[0m \u001b[0me\u001b[0m\u001b[0;34m:\u001b[0m\u001b[0;34m\u001b[0m\u001b[0;34m\u001b[0m\u001b[0m\n\u001b[1;32m    176\u001b[0m                 \u001b[0mexc_type\u001b[0m\u001b[0;34m,\u001b[0m \u001b[0mexc_value\u001b[0m\u001b[0;34m,\u001b[0m \u001b[0mtraceback\u001b[0m \u001b[0;34m=\u001b[0m \u001b[0msys\u001b[0m\u001b[0;34m.\u001b[0m\u001b[0mexc_info\u001b[0m\u001b[0;34m(\u001b[0m\u001b[0;34m)\u001b[0m\u001b[0;34m\u001b[0m\u001b[0;34m\u001b[0m\u001b[0m\n",
            "\u001b[0;32m<ipython-input-642-99a19e6bf841>\u001b[0m in \u001b[0;36mparametrised_guide\u001b[0;34m(params)\u001b[0m\n\u001b[1;32m     11\u001b[0m     )\n\u001b[1;32m     12\u001b[0m \u001b[0;34m\u001b[0m\u001b[0m\n\u001b[0;32m---> 13\u001b[0;31m     \u001b[0mmu_dist\u001b[0m \u001b[0;34m=\u001b[0m \u001b[0mpyro\u001b[0m\u001b[0;34m.\u001b[0m\u001b[0msample\u001b[0m\u001b[0;34m(\u001b[0m\u001b[0;34m\"mu_dist\"\u001b[0m\u001b[0;34m,\u001b[0m \u001b[0mdist\u001b[0m\u001b[0;34m.\u001b[0m\u001b[0mNormal\u001b[0m\u001b[0;34m(\u001b[0m\u001b[0mmu_mu\u001b[0m\u001b[0;34m,\u001b[0m \u001b[0mmu_std\u001b[0m\u001b[0;34m)\u001b[0m\u001b[0;34m.\u001b[0m\u001b[0mindependent\u001b[0m\u001b[0;34m(\u001b[0m\u001b[0;36m1\u001b[0m\u001b[0;34m)\u001b[0m\u001b[0;34m)\u001b[0m\u001b[0;34m\u001b[0m\u001b[0;34m\u001b[0m\u001b[0m\n\u001b[0m\u001b[1;32m     14\u001b[0m     \u001b[0mstd_dist\u001b[0m \u001b[0;34m=\u001b[0m \u001b[0mpyro\u001b[0m\u001b[0;34m.\u001b[0m\u001b[0msample\u001b[0m\u001b[0;34m(\u001b[0m\u001b[0;34m\"std_dist\"\u001b[0m\u001b[0;34m,\u001b[0m \u001b[0mdist\u001b[0m\u001b[0;34m.\u001b[0m\u001b[0mGamma\u001b[0m\u001b[0;34m(\u001b[0m\u001b[0mstd_a\u001b[0m\u001b[0;34m,\u001b[0m \u001b[0mstd_b\u001b[0m\u001b[0;34m)\u001b[0m\u001b[0;34m.\u001b[0m\u001b[0mindependent\u001b[0m\u001b[0;34m(\u001b[0m\u001b[0;36m1\u001b[0m\u001b[0;34m)\u001b[0m\u001b[0;34m)\u001b[0m\u001b[0;34m\u001b[0m\u001b[0;34m\u001b[0m\u001b[0m\n\u001b[1;32m     15\u001b[0m     \u001b[0;32mreturn\u001b[0m \u001b[0mpyro\u001b[0m\u001b[0;34m.\u001b[0m\u001b[0msample\u001b[0m\u001b[0;34m(\u001b[0m\u001b[0;34m\"data_dist\"\u001b[0m\u001b[0;34m,\u001b[0m \u001b[0mdist\u001b[0m\u001b[0;34m.\u001b[0m\u001b[0mNormal\u001b[0m\u001b[0;34m(\u001b[0m\u001b[0mmu_dist\u001b[0m\u001b[0;34m,\u001b[0m \u001b[0mstd_dist\u001b[0m\u001b[0;34m)\u001b[0m\u001b[0;34m.\u001b[0m\u001b[0mindependent\u001b[0m\u001b[0;34m(\u001b[0m\u001b[0;36m1\u001b[0m\u001b[0;34m)\u001b[0m\u001b[0;34m)\u001b[0m\u001b[0;34m\u001b[0m\u001b[0;34m\u001b[0m\u001b[0m\n",
            "\u001b[0;32m/usr/local/lib/python3.7/dist-packages/pyro/distributions/torch_distribution.py\u001b[0m in \u001b[0;36mindependent\u001b[0;34m(self, reinterpreted_batch_ndims)\u001b[0m\n\u001b[1;32m    200\u001b[0m             \u001b[0;34m\"independent is deprecated; use to_event instead\"\u001b[0m\u001b[0;34m,\u001b[0m \u001b[0mDeprecationWarning\u001b[0m\u001b[0;34m\u001b[0m\u001b[0;34m\u001b[0m\u001b[0m\n\u001b[1;32m    201\u001b[0m         )\n\u001b[0;32m--> 202\u001b[0;31m         \u001b[0;32mreturn\u001b[0m \u001b[0mself\u001b[0m\u001b[0;34m.\u001b[0m\u001b[0mto_event\u001b[0m\u001b[0;34m(\u001b[0m\u001b[0mreinterpreted_batch_ndims\u001b[0m\u001b[0;34m=\u001b[0m\u001b[0mreinterpreted_batch_ndims\u001b[0m\u001b[0;34m)\u001b[0m\u001b[0;34m\u001b[0m\u001b[0;34m\u001b[0m\u001b[0m\n\u001b[0m\u001b[1;32m    203\u001b[0m \u001b[0;34m\u001b[0m\u001b[0m\n\u001b[1;32m    204\u001b[0m     \u001b[0;32mdef\u001b[0m \u001b[0mmask\u001b[0m\u001b[0;34m(\u001b[0m\u001b[0mself\u001b[0m\u001b[0;34m,\u001b[0m \u001b[0mmask\u001b[0m\u001b[0;34m)\u001b[0m\u001b[0;34m:\u001b[0m\u001b[0;34m\u001b[0m\u001b[0;34m\u001b[0m\u001b[0m\n",
            "\u001b[0;32m/usr/local/lib/python3.7/dist-packages/pyro/distributions/torch_distribution.py\u001b[0m in \u001b[0;36mto_event\u001b[0;34m(self, reinterpreted_batch_ndims)\u001b[0m\n\u001b[1;32m    193\u001b[0m             )\n\u001b[1;32m    194\u001b[0m         return pyro.distributions.torch.Independent(\n\u001b[0;32m--> 195\u001b[0;31m             \u001b[0mbase_dist\u001b[0m\u001b[0;34m,\u001b[0m \u001b[0mreinterpreted_batch_ndims\u001b[0m\u001b[0;34m\u001b[0m\u001b[0;34m\u001b[0m\u001b[0m\n\u001b[0m\u001b[1;32m    196\u001b[0m         )\n\u001b[1;32m    197\u001b[0m \u001b[0;34m\u001b[0m\u001b[0m\n",
            "\u001b[0;32m/usr/local/lib/python3.7/dist-packages/pyro/distributions/distribution.py\u001b[0m in \u001b[0;36m__call__\u001b[0;34m(cls, *args, **kwargs)\u001b[0m\n\u001b[1;32m     16\u001b[0m             \u001b[0;32mif\u001b[0m \u001b[0mresult\u001b[0m \u001b[0;32mis\u001b[0m \u001b[0;32mnot\u001b[0m \u001b[0;32mNone\u001b[0m\u001b[0;34m:\u001b[0m\u001b[0;34m\u001b[0m\u001b[0;34m\u001b[0m\u001b[0m\n\u001b[1;32m     17\u001b[0m                 \u001b[0;32mreturn\u001b[0m \u001b[0mresult\u001b[0m\u001b[0;34m\u001b[0m\u001b[0;34m\u001b[0m\u001b[0m\n\u001b[0;32m---> 18\u001b[0;31m         \u001b[0;32mreturn\u001b[0m \u001b[0msuper\u001b[0m\u001b[0;34m(\u001b[0m\u001b[0;34m)\u001b[0m\u001b[0;34m.\u001b[0m\u001b[0m__call__\u001b[0m\u001b[0;34m(\u001b[0m\u001b[0;34m*\u001b[0m\u001b[0margs\u001b[0m\u001b[0;34m,\u001b[0m \u001b[0;34m**\u001b[0m\u001b[0mkwargs\u001b[0m\u001b[0;34m)\u001b[0m\u001b[0;34m\u001b[0m\u001b[0;34m\u001b[0m\u001b[0m\n\u001b[0m\u001b[1;32m     19\u001b[0m \u001b[0;34m\u001b[0m\u001b[0m\n\u001b[1;32m     20\u001b[0m     \u001b[0;34m@\u001b[0m\u001b[0mproperty\u001b[0m\u001b[0;34m\u001b[0m\u001b[0;34m\u001b[0m\u001b[0m\n",
            "\u001b[0;32m/usr/local/lib/python3.7/dist-packages/torch/distributions/independent.py\u001b[0m in \u001b[0;36m__init__\u001b[0;34m(self, base_distribution, reinterpreted_batch_ndims, validate_args)\u001b[0m\n\u001b[1;32m     38\u001b[0m             raise ValueError(\"Expected reinterpreted_batch_ndims <= len(base_distribution.batch_shape), \"\n\u001b[1;32m     39\u001b[0m                              \"actual {} vs {}\".format(reinterpreted_batch_ndims,\n\u001b[0;32m---> 40\u001b[0;31m                                                       len(base_distribution.batch_shape)))\n\u001b[0m\u001b[1;32m     41\u001b[0m         \u001b[0mshape\u001b[0m \u001b[0;34m=\u001b[0m \u001b[0mbase_distribution\u001b[0m\u001b[0;34m.\u001b[0m\u001b[0mbatch_shape\u001b[0m \u001b[0;34m+\u001b[0m \u001b[0mbase_distribution\u001b[0m\u001b[0;34m.\u001b[0m\u001b[0mevent_shape\u001b[0m\u001b[0;34m\u001b[0m\u001b[0;34m\u001b[0m\u001b[0m\n\u001b[1;32m     42\u001b[0m         \u001b[0mevent_dim\u001b[0m \u001b[0;34m=\u001b[0m \u001b[0mreinterpreted_batch_ndims\u001b[0m \u001b[0;34m+\u001b[0m \u001b[0mlen\u001b[0m\u001b[0;34m(\u001b[0m\u001b[0mbase_distribution\u001b[0m\u001b[0;34m.\u001b[0m\u001b[0mevent_shape\u001b[0m\u001b[0;34m)\u001b[0m\u001b[0;34m\u001b[0m\u001b[0;34m\u001b[0m\u001b[0m\n",
            "\u001b[0;31mValueError\u001b[0m: Expected reinterpreted_batch_ndims <= len(base_distribution.batch_shape), actual 1 vs 0\nTrace Shapes:\n Param Sites:\n        mu_mu\n       mu_std\n        std_a\n        std_b\nSample Sites:"
          ]
        }
      ]
    },
    {
      "cell_type": "code",
      "metadata": {
        "colab": {
          "base_uri": "https://localhost:8080/"
        },
        "id": "GPQ29okzylHa",
        "outputId": "36275c37-b832-4483-c3cd-09192473734d"
      },
      "source": [
        ""
      ],
      "execution_count": null,
      "outputs": [
        {
          "name": "stdout",
          "output_type": "stream",
          "text": [
            "('cloudy', 51.373016357421875)\n",
            "('cloudy', 52.28388595581055)\n",
            "('sunny', 70.28937530517578)\n",
            "('cloudy', 35.4540901184082)\n",
            "('sunny', 83.63148498535156)\n",
            "('sunny', 75.91869354248047)\n",
            "('sunny', 122.68901062011719)\n",
            "('sunny', 58.44780731201172)\n",
            "('sunny', 80.37315368652344)\n",
            "('sunny', 101.10397338867188)\n"
          ]
        }
      ]
    },
    {
      "cell_type": "code",
      "metadata": {
        "colab": {
          "base_uri": "https://localhost:8080/"
        },
        "id": "msDnOvgJy56C",
        "outputId": "79543e6c-a0cb-49dc-85a4-4d78b677a44b"
      },
      "source": [
        ""
      ],
      "execution_count": null,
      "outputs": [
        {
          "name": "stdout",
          "output_type": "stream",
          "text": [
            "sunny 57.012847900390625\n",
            "tensor(57.0450)\n"
          ]
        }
      ]
    },
    {
      "cell_type": "code",
      "metadata": {
        "colab": {
          "base_uri": "https://localhost:8080/"
        },
        "id": "C76ZGVL0zhcw",
        "outputId": "0fef2a6e-ae20-4d41-cf88-aae614662286"
      },
      "source": [
        ""
      ],
      "execution_count": null,
      "outputs": [
        {
          "name": "stdout",
          "output_type": "stream",
          "text": [
            "tensor(-165.0330)\n"
          ]
        }
      ]
    },
    {
      "cell_type": "code",
      "metadata": {
        "id": "rIsx1VrfZ7ek"
      },
      "source": [
        ""
      ],
      "execution_count": null,
      "outputs": []
    },
    {
      "cell_type": "code",
      "metadata": {
        "id": "V_mY1o-OZ_20"
      },
      "source": [
        ""
      ],
      "execution_count": null,
      "outputs": []
    },
    {
      "cell_type": "code",
      "metadata": {
        "id": "slBL6SFMMynI"
      },
      "source": [
        "import numpy as np\n",
        "import random\n",
        "import sys\n",
        "import matplotlib.pyplot as plt\n",
        "%matplotlib inline\n",
        "\n",
        "from scipy.interpolate import interp1d\n",
        "import numpy as np"
      ],
      "execution_count": null,
      "outputs": []
    },
    {
      "cell_type": "code",
      "metadata": {
        "id": "wCrDaf5HaCkq"
      },
      "source": [
        "def line_intersection(line1, line2):\n",
        "    '''\n",
        "    Inputs: Two lines e.g., A(x1,y1) and B(x2,y2)\n",
        "    Output: intersection of these two lines.\n",
        "    '''\n",
        "    xdiff = (line1[0][0] - line1[1][0], line2[0][0] - line2[1][0])\n",
        "    ydiff = (line1[0][1] - line1[1][1], line2[0][1] - line2[1][1])\n",
        "\n",
        "    def det(a, b):\n",
        "        return a[0] * b[1] - a[1] * b[0]\n",
        "\n",
        "    div = det(xdiff, ydiff)\n",
        "    # print(div)\n",
        "    if div == 0:\n",
        "       raise Exception('lines do not intersect')\n",
        "      # return \"lines dont intersect\"\n",
        "\n",
        "    d = (det(*line1), det(*line2))\n",
        "    x = det(d, xdiff) / div\n",
        "    y = det(d, ydiff) / div\n",
        "    return x, y\n",
        "\n",
        "def make_line(p1, p2):\n",
        "  '''\n",
        "  Input: two points.\n",
        "  Output: 2d numpy array depicting a line.\n",
        "  '''\n",
        "  return np.array([p1,p2])\n",
        "\n",
        "\n",
        "def make_grid(list_of_vlines,list_of_hlines):\n",
        "  '''\n",
        "  Inputs: list of horizontal lines and list of vertical lines.\n",
        "  Outputs: generates a grid of intersection of horizontal and vertical lines\n",
        "  '''\n",
        "  grid=[]\n",
        "  for h in list_of_hlines:\n",
        "    ls=[]\n",
        "    for v in list_of_vlines:\n",
        "      ls.append(line_intersection(h,v))\n",
        "    grid.append(np.array(ls))\n",
        "  return np.array(grid)\n",
        "\n",
        "\n",
        "  '''\n",
        "dx=[0,0,-1,1]\n",
        "dy=[1,-1,0,0]\n",
        "\n",
        "\n",
        "\n",
        "0 1 2 3\n",
        "4 5 6 7\n",
        "8 9 10 11\n",
        "12 13 14 15\n",
        "16 17 18 19\n",
        "\n",
        "'''\n",
        "\n",
        "\n",
        "def random_neigh_list():\n",
        "  '''\n",
        "  Generates two list randomly such that in grid I can either move L, R, U, D randomly.\n",
        "  '''\n",
        "  dx=[0,0,-1,1]\n",
        "  dy=[]\n",
        "  random.shuffle(dx)\n",
        "  count=0\n",
        "  for i in dx:\n",
        "    if (i==0 and count==0):\n",
        "      count=random.choice([-1,1])\n",
        "      dy.append(count)\n",
        "    elif (i==0):\n",
        "      dy.append(-1*count)\n",
        "    else:\n",
        "      dy.append(0)\n",
        "  return dx,dy\n",
        "\n",
        "def cond(x,y,r,c):\n",
        "  if (x<0 or y<0 or x>=r or y>=c):\n",
        "    return False\n",
        "  else:\n",
        "    return True\n",
        "\n",
        "\n",
        "def dfs(grid, node, parent, way_points, prev_way, width, total,tr):\n",
        "  '''\n",
        "  Does dfs to generate the waypoints, maintaining the lanes of the roads\n",
        "  '''\n",
        "  row=len(grid)\n",
        "  col=len(grid[0])\n",
        "\n",
        "  x,y=node//col,node%col\n",
        "  tr.append([x,y])\n",
        "\n",
        "\n",
        "  # x_offset,y_offset=0,0\n",
        "  # # if (way==\"R\"):\n",
        "  # #   x_offset=width/4\n",
        "  # # elif (way==\"L\"):\n",
        "  # #   x_offset=-width/4\n",
        "  # # elif (way==\"U\"):\n",
        "  # #   y_offset=width/4\n",
        "  # # elif (way==\"D\"):\n",
        "  # #   y_offset=-width/4\n",
        "  \n",
        "  # way_points.append([grid[x][y][0]+x_offset,grid[x][y][1]+y_offset,0])\n",
        "  # print([grid[x][y]])\n",
        "  \n",
        "  if (len(way_points)>=total):\n",
        "    return -1\n",
        "  dx,dy=random_neigh_list()\n",
        "  \n",
        "  # print(x,y,len(way_points))\n",
        "  # print(dx,dy)\n",
        "  for i in range(0,4):\n",
        "    xx,yy=x+dx[i],y+dy[i]\n",
        "    new_node=xx*col+yy\n",
        "    if (cond(xx,yy,row,col) and new_node!=parent):\n",
        "      x_offset,y_offset=0,0\n",
        "      if (dx[i]==0 and dy[i]==1):\n",
        "        # right\n",
        "        # print(\"right\")\n",
        "        if (prev_way==\"U\"):\n",
        "          x_offset=-width/2\n",
        "          y_offset=width/2\n",
        "          way_points.append([grid[x][y][0]+x_offset,grid[x][y][1]+y_offset,0])\n",
        "        \n",
        "        if (prev_way==\"R\"):\n",
        "          x_offset=width/2\n",
        "          y_offset=width/2\n",
        "          way_points.append([grid[x][y][0]+x_offset,grid[x][y][1]+y_offset,0])\n",
        "\n",
        "        x_offset=width/2\n",
        "        y_offset=-width/2\n",
        "        prev_way=\"R\"\n",
        "\n",
        "      elif (dx[i]==0 and dy[i]==-1):\n",
        "        # left\n",
        "        # print(\"keft\")\n",
        "        if (prev_way==\"D\"):\n",
        "          x_offset=width/2\n",
        "          y_offset=-width/2\n",
        "          way_points.append([grid[x][y][0]+x_offset,grid[x][y][1]+y_offset,0])\n",
        "        \n",
        "        if (prev_way==\"L\"):\n",
        "          x_offset=-width/2\n",
        "          y_offset=-width/2\n",
        "          way_points.append([grid[x][y][0]+x_offset,grid[x][y][1]+y_offset,0])\n",
        "\n",
        "        x_offset=-width/2\n",
        "        y_offset=+width/2\n",
        "        prev_way=\"L\"\n",
        "\n",
        "      elif (dx[i]==-1 and dy[i]==0):\n",
        "        # up\n",
        "        # print(\"up\")\n",
        "        if (prev_way==\"L\"):\n",
        "          x_offset=-width/2\n",
        "          y_offset=-width/2\n",
        "          way_points.append([grid[x][y][0]+x_offset,grid[x][y][1]+y_offset,0])\n",
        "        \n",
        "        if (prev_way==\"U\"):\n",
        "          x_offset=-width/2\n",
        "          y_offset=width/2\n",
        "          way_points.append([grid[x][y][0]+x_offset,grid[x][y][1]+y_offset,0])\n",
        "\n",
        "        x_offset=width/2\n",
        "        y_offset=width/2\n",
        "        prev_way=\"U\"\n",
        "\n",
        "      elif (dx[i]==1 and dy[i]==0):\n",
        "        # down\n",
        "        if (prev_way==\"D\"):\n",
        "          x_offset=width/2\n",
        "          y_offset=-width/2\n",
        "          way_points.append([grid[x][y][0]+x_offset,grid[x][y][1]+y_offset,0])\n",
        "        \n",
        "        if (prev_way==\"R\"):\n",
        "          x_offset=width/2\n",
        "          y_offset=width/2\n",
        "          way_points.append([grid[x][y][0]+x_offset,grid[x][y][1]+y_offset,0])\n",
        "\n",
        "        x_offset=-width/2\n",
        "        y_offset=-width/2\n",
        "        prev_way=\"D\"\n",
        "      \n",
        "      # print(x,y,len(way_points))\n",
        "      # print(dx,dy)\n",
        "      if (len(way_points)>=total):\n",
        "        return -1\n",
        "      way_points.append([grid[x][y][0]+x_offset,grid[x][y][1]+y_offset,0])\n",
        "      # print([grid[x][y]])\n",
        "      # print([grid[x][y][0]+x_offset,grid[x][y][1]+y_offset])\n",
        "      if (len(way_points)>=total or dfs(grid,new_node,node,way_points,prev_way,width,total,tr)==-1):\n",
        "        return -1\n",
        "\n",
        "\n",
        "\n",
        "\n",
        "\n"
      ],
      "execution_count": null,
      "outputs": []
    },
    {
      "cell_type": "code",
      "metadata": {
        "id": "t2F75SJDSQ-5"
      },
      "source": [
        "\n",
        "def convert_matlab(any_list):\n",
        "  st=\"[\"\n",
        "  count=0\n",
        "  for ls in any_list:\n",
        "    if (type(ls) is list):\n",
        "      s=\" \".join(map(str,ls))\n",
        "    else:\n",
        "      s=str(ls)\n",
        "    if (count==len(any_list)-1):\n",
        "      st+=s+\"];\\n\"\n",
        "    else:\n",
        "      st+=s+\";\\n\"\n",
        "    count+=1\n",
        "  return st\n",
        "\n",
        "\n",
        "\n",
        "def generate_speed(n):\n",
        "  return [random.uniform(20.0,70.0) for _ in range(n)]\n",
        "\n",
        "\n",
        "\n",
        "\n",
        "def generate_more_points(hell):\n",
        "  '''\n",
        "  generates more waypoints along a line\n",
        "  '''\n",
        "  w_x=[]\n",
        "  w_y=[]\n",
        "  for i in range(0,len(hell),1):\n",
        "    if (i==len(hell)-1):\n",
        "      break\n",
        "    x=hell[i:i+2,0]\n",
        "    y=hell[i:i+2,1]\n",
        "\n",
        "    # Linear length on the line\n",
        "    distance = np.cumsum(np.sqrt( np.ediff1d(x, to_begin=0)**2 + np.ediff1d(y, to_begin=0)**2 ))\n",
        "    distance = distance/distance[-1]\n",
        "\n",
        "    fx, fy = interp1d( distance, x ), interp1d( distance, y )\n",
        "\n",
        "    alpha = np.linspace(0, 1, 5)\n",
        "    x_regular, y_regular = fx(alpha), fy(alpha)\n",
        "\n",
        "    if (i==0):\n",
        "      w_x.extend(x_regular)\n",
        "      w_y.extend(y_regular)\n",
        "    else:\n",
        "      w_x.extend(x_regular[1:])\n",
        "      w_y.extend(y_regular[1:])\n",
        "\n",
        "  w_x=np.array(w_x)\n",
        "  w_y=np.array(w_y)\n",
        "  w=np.stack([w_x,w_y,np.zeros(len(w_x))],axis=1)\n",
        "  return w.tolist()\n",
        "\n",
        "\n",
        "\n",
        "\n",
        "def print_car(file1, grid, width, total, count, ego):\n",
        "  \n",
        "  way_points,tr=[],[]\n",
        "\n",
        "  # randomly choose one starting point for the car\n",
        "  row,col=len(grid),len(grid[0])\n",
        "  dfs(grid,random.randint(0,(row*col)-1),-1,way_points, \"\",width,total, tr)\n",
        "  # print(way_points)\n",
        "  # print(speed)\n",
        "  position=\"[\"\n",
        "  position+=\" \".join(map(str,way_points[0]))\n",
        "  position+=\"]\"\n",
        "  name=\"car\"+str(count)\n",
        "  # print(position)\n",
        "  color=\"[\"+\" \".join(map(str,[random.uniform(0,1) for _ in range(3)]))+\"]\"\n",
        "  # print(color)\n",
        "  \n",
        "  # print(\"hell\",way_points)\n",
        "\n",
        "\n",
        "  way_points=generate_more_points(np.array(way_points))\n",
        "  # print(way_points)\n",
        "  speed=generate_speed(len(way_points))\n",
        "  if ego:\n",
        "    print(\"egoVehicle = vehicle(scenario, ... \\n \\t 'ClassID', 1, ... \\n \\t 'Position', {}, ... \\n \\t 'Mesh', driving.scenario.carMesh, ... \\n \\t 'PlotColor', {}, ...\\n \\t 'Name', 'Ego_car');\".format(position,color))\n",
        "\n",
        "  else:\n",
        "    print(\"{} = vehicle(scenario, ... \\n \\t 'ClassID', 1, ... \\n \\t 'Position', {}, ... \\n \\t 'Mesh', driving.scenario.carMesh, ... \\n \\t 'PlotColor', {}, ...\\n \\t 'Name', '{}');\".format(name,position,color,name))\n",
        "\n",
        "  print(\"waypoints = {}\".format(convert_matlab(way_points)))\n",
        "  print(\"speed = {}\".format(convert_matlab(speed)))\n",
        "\n",
        "  if ego:\n",
        "    print(\"trajectory(egoVehicle, waypoints, speed);\\n\")\n",
        "  else:\n",
        "    print(\"trajectory({}, waypoints, speed);\\n\".format(name))\n",
        "\n",
        "\n",
        "\n",
        "\n",
        "\n",
        "\n",
        "def print_road(file1,line,width,road_name):\n",
        "  # file1.write(\"roadCenters = \")\n",
        "  print(\"roadCenters = [\",end='')\n",
        "  count=0\n",
        "  for p in line:\n",
        "    p=np.append(p,0)\n",
        "    st=' '.join(map(str,p))\n",
        "    if (count==len(line)-1):\n",
        "      print(st+']'+';')\n",
        "    else:\n",
        "      print(st+';')\n",
        "    count+=1\n",
        "  print(\"marking = [laneMarking('Solid', 'Color', [0.98 0.86 0.36]) \\n \\t laneMarking('Solid') \\n \\t laneMarking('Solid')];\")\n",
        "  print(\"laneSpecification = lanespec(2, 'Width', {},'Marking', marking);\".format(width))\n",
        "  print(\"road(scenario, roadCenters, 'Lanes', laneSpecification, 'Name', '{}');\\n\".format(road_name))\n",
        "\n",
        "\n",
        "\n",
        "\n",
        "\n",
        "\n",
        "# vl1=make_line((62.4,44.5),(-29.9,45.2))\n",
        "# vl2=make_line((62.1,21.9),(-30.1,21.7))\n",
        "# width=4.925\n",
        "# total=10\n",
        "# print(\"% Add all road segments\")\n",
        "# print_road(None,vl1,width,\"hello\")\n",
        "# print_road(None,vl2,width,\"hello2\")\n",
        "\n",
        "# print_ego(None,grid,width,total,1,False)\n",
        "\n",
        "\n",
        "# print(generate_speed(10))"
      ],
      "execution_count": null,
      "outputs": []
    },
    {
      "cell_type": "code",
      "metadata": {
        "id": "ybh73xcIaEsd"
      },
      "source": [
        "\n",
        "for driving_scenario in range(1,11):\n",
        "  # Saving the reference of the standard output\n",
        "  original_stdout = sys.stdout \n",
        "\n",
        "  file_name=\"scenario_{}.txt\".format(driving_scenario)\n",
        "  with open(file_name,'w') as f:\n",
        "    sys.stdout = f\n",
        "    print(\"function [scenario, egoVehicle] = createDrivingScenario()\")\n",
        "    print(\"% createDrivingScenario Returns the drivingScenario defined in the Designer\")\n",
        "    print(\"% Generated by MATLAB(R) 9.10 (R2021a) and Automated Driving Toolbox 3.3 (R2021a).\")\n",
        "    print(\"% Construct a drivingScenario object.\")\n",
        "    print(\"scenario = drivingScenario;\\n\")\n",
        "\n",
        "    width=4.925\n",
        "    total=20\n",
        "\n",
        "    vl1=make_line((62.4,44.5),(-29.9,45.2))\n",
        "    vl2=make_line((62.1,21.9),(-30.1,21.7))\n",
        "    vl3=make_line((61.7,-1),(-30.7,-1.2))\n",
        "    vl4=make_line((61.7,-24.8),(-30.5,-25.3))\n",
        "\n",
        "    list_of_vlines=[vl1,vl2,vl3,vl4]\n",
        "    # print (\"Vertical Lines\")\n",
        "    # print(list_of_vlines)\n",
        "\n",
        "\n",
        "    hl1=make_line((57.8,49.7),(56.9,-29.8))\n",
        "    hl2=make_line((37,49.7),(36.1,-29.8))\n",
        "    hl3=make_line((14.3,50.1),(13.4,-29.4))\n",
        "    hl4=make_line((-6.1,49.8),(-7,-29.7))\n",
        "    hl5=make_line((-24.9,49.8),(-25.8,-29.7))\n",
        "\n",
        "    list_of_hlines=[hl1,hl2,hl3,hl4,hl5]\n",
        "    # print(\"Horizontal lines\")\n",
        "    # print(list_of_hlines)\n",
        "\n",
        "\n",
        "    # Write the road information\n",
        "    print(\"% Add all road segments\")\n",
        "    road_count=0\n",
        "    for rd in list_of_vlines+list_of_hlines:\n",
        "      road_count+=1\n",
        "      print_road(None,rd,width,\"Road\"+str(road_count))\n",
        "\n",
        "\n",
        "    # Make the grid\n",
        "    grid=make_grid(list_of_vlines,list_of_hlines)\n",
        "    # print(\"Grid\")\n",
        "    # print(grid)\n",
        "\n",
        "\n",
        "    # Add ego vehicle\n",
        "    print(\"% Add the ego vehicle\")\n",
        "    # file1, grid, width, total, count, ego\n",
        "    print_car(None,grid,width,total,1,True)\n",
        "\n",
        "    number_of_vehicles=3\n",
        "\n",
        "    # Add other car\n",
        "    print(\"% Add the non-ego actors\")\n",
        "    for v in range(1,number_of_vehicles+1):\n",
        "      print_car(None,grid,width,total,v,False)\n",
        "    sys.stdout = original_stdout \n",
        "\n",
        "\n",
        "\n"
      ],
      "execution_count": null,
      "outputs": []
    },
    {
      "cell_type": "code",
      "metadata": {
        "colab": {
          "base_uri": "https://localhost:8080/",
          "height": 164
        },
        "id": "yTASM8xPcRc3",
        "outputId": "1bbe0b2c-db57-472b-d6b9-266b2786507c"
      },
      "source": [
        "waypoints"
      ],
      "execution_count": null,
      "outputs": [
        {
          "output_type": "error",
          "ename": "NameError",
          "evalue": "ignored",
          "traceback": [
            "\u001b[0;31m---------------------------------------------------------------------------\u001b[0m",
            "\u001b[0;31mNameError\u001b[0m                                 Traceback (most recent call last)",
            "\u001b[0;32m<ipython-input-405-712e3d7981fc>\u001b[0m in \u001b[0;36m<module>\u001b[0;34m()\u001b[0m\n\u001b[0;32m----> 1\u001b[0;31m \u001b[0mwaypoints\u001b[0m\u001b[0;34m\u001b[0m\u001b[0;34m\u001b[0m\u001b[0m\n\u001b[0m",
            "\u001b[0;31mNameError\u001b[0m: name 'waypoints' is not defined"
          ]
        }
      ]
    },
    {
      "cell_type": "code",
      "metadata": {
        "id": "l0fg-3uAMfmB"
      },
      "source": [
        "from scipy.interpolate import interp1d\n",
        "import numpy as np\n",
        "\n",
        "\n",
        "x = [0, 1, 8, 2, 2]\n",
        "y = [1, 0, 6, 7, 2]\n",
        "\n",
        "# Linear length on the line\n",
        "distance = np.cumsum(np.sqrt( np.ediff1d(x, to_begin=0)**2 + np.ediff1d(y, to_begin=0)**2 ))\n",
        "distance = distance/distance[-1]\n",
        "\n",
        "fx, fy = interp1d( distance, x ), interp1d( distance, y )\n",
        "\n",
        "alpha = np.linspace(0, 1, 15)\n",
        "x_regular, y_regular = fx(alpha), fy(alpha)\n",
        "\n",
        "plt.plot(x, y, 'o-');\n",
        "plt.plot(x_regular, y_regular, 'or');\n",
        "plt.axis('equal');"
      ],
      "execution_count": null,
      "outputs": []
    },
    {
      "cell_type": "code",
      "metadata": {
        "id": "V66-kYV2vMvI"
      },
      "source": [
        ""
      ],
      "execution_count": null,
      "outputs": []
    },
    {
      "cell_type": "code",
      "metadata": {
        "id": "Ctt-fhUCvY7E"
      },
      "source": [
        "[58.972782033881685 44.53532965954802 0;\n",
        "58.716419692703134 21.889989522109982 0;\n",
        "57.2259281040947 -2.2409341383028254 0;\n",
        "37.65666841260507 -1.0547068865528029 0;\n",
        "36.15503550743917 -23.707280176206947 0;\n",
        "55.725062547326196 -24.825724986185868 0;\n",
        "55.994678104094696 -1.0096841383028254 0;\n",
        "56.25391969270313 21.889989522109982 0;\n",
        "57.74153203388168 43.304079659548016 0;\n",
        "38.174567689766825 44.693062596068934 0"
      ],
      "execution_count": null,
      "outputs": []
    },
    {
      "cell_type": "code",
      "metadata": {
        "id": "6V0p6YGY59Zq"
      },
      "source": [
        "[57.74153203388168 43.304079659548016 0;\n",
        "36.94331768976682 43.46181259606893 0;\n",
        "14.240738545311835 43.633988169212145 0;\n",
        "-6.154114203486279 43.78866202537854 0;\n",
        "-23.721250245282405 43.931228333387836 0;\n",
        "-23.986743320345113 22.94184003618146 0;\n",
        "-6.417531638316333 22.98262194872382 0;\n",
        "13.979573025981892 23.026867295067206 0;\n",
        "37.91590889556491 21.844869108233326 0;\n",
        "37.65666841260507 -1.0547068865528029 0]"
      ],
      "execution_count": null,
      "outputs": []
    }
  ]
}