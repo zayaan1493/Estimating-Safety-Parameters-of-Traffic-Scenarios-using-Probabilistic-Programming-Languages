{
  "nbformat": 4,
  "nbformat_minor": 0,
  "metadata": {
    "colab": {
      "name": "MTP-2.ipynb",
      "provenance": [],
      "collapsed_sections": []
    },
    "kernelspec": {
      "name": "python3",
      "display_name": "Python 3"
    },
    "language_info": {
      "name": "python"
    }
  },
  "cells": [
    {
      "cell_type": "code",
      "metadata": {
        "id": "3rwCreGk1fkU"
      },
      "source": [
        "import os\n",
        "import sys\n",
        "from google.colab import drive"
      ],
      "execution_count": null,
      "outputs": []
    },
    {
      "cell_type": "code",
      "metadata": {
        "colab": {
          "base_uri": "https://localhost:8080/"
        },
        "id": "PMNgec0K1hhC",
        "outputId": "4b169aac-422e-4692-d9a0-de4837f06e04"
      },
      "source": [
        "drive.mount('/content/drive')"
      ],
      "execution_count": null,
      "outputs": [
        {
          "output_type": "stream",
          "name": "stdout",
          "text": [
            "Mounted at /content/drive\n"
          ]
        }
      ]
    },
    {
      "cell_type": "code",
      "metadata": {
        "id": "MPDHzTED1jYc"
      },
      "source": [
        "os.chdir(\"/content/drive/My Drive/Colab Notebooks\")"
      ],
      "execution_count": null,
      "outputs": []
    },
    {
      "cell_type": "code",
      "metadata": {
        "colab": {
          "base_uri": "https://localhost:8080/"
        },
        "id": "RoH6NZAc1ojz",
        "outputId": "1451f530-0c13-4670-f85a-ca27dcc36f0b"
      },
      "source": [
        "!pip3 install pyro-ppl"
      ],
      "execution_count": null,
      "outputs": [
        {
          "output_type": "stream",
          "name": "stdout",
          "text": [
            "Collecting pyro-ppl\n",
            "  Downloading pyro_ppl-1.7.0-py3-none-any.whl (678 kB)\n",
            "\u001b[K     |████████████████████████████████| 678 kB 5.1 MB/s \n",
            "\u001b[?25hRequirement already satisfied: tqdm>=4.36 in /usr/local/lib/python3.7/dist-packages (from pyro-ppl) (4.62.3)\n",
            "Requirement already satisfied: numpy>=1.7 in /usr/local/lib/python3.7/dist-packages (from pyro-ppl) (1.19.5)\n",
            "Requirement already satisfied: opt-einsum>=2.3.2 in /usr/local/lib/python3.7/dist-packages (from pyro-ppl) (3.3.0)\n",
            "Collecting pyro-api>=0.1.1\n",
            "  Downloading pyro_api-0.1.2-py3-none-any.whl (11 kB)\n",
            "Requirement already satisfied: torch>=1.9.0 in /usr/local/lib/python3.7/dist-packages (from pyro-ppl) (1.9.0+cu111)\n",
            "Requirement already satisfied: typing-extensions in /usr/local/lib/python3.7/dist-packages (from torch>=1.9.0->pyro-ppl) (3.7.4.3)\n",
            "Installing collected packages: pyro-api, pyro-ppl\n",
            "Successfully installed pyro-api-0.1.2 pyro-ppl-1.7.0\n"
          ]
        }
      ]
    },
    {
      "cell_type": "code",
      "metadata": {
        "id": "Z028kqan4z4f"
      },
      "source": [
        "import pandas as pd\n",
        "import numpy as np\n",
        "from sklearn.ensemble import RandomForestClassifier as RF\n",
        "from sklearn.model_selection import train_test_split\n",
        "from sklearn.metrics import  accuracy_score\n",
        "from sklearn.svm import SVC\n",
        "from sklearn.linear_model import LogisticRegression as LR"
      ],
      "execution_count": null,
      "outputs": []
    },
    {
      "cell_type": "code",
      "metadata": {
        "id": "SjRGi1sH5Htw"
      },
      "source": [
        "import os\n",
        "import sys\n",
        "from google.colab import drive\n",
        "import statistics"
      ],
      "execution_count": null,
      "outputs": []
    },
    {
      "cell_type": "code",
      "metadata": {
        "id": "oI2t0a1z1NTK"
      },
      "source": [
        ""
      ],
      "execution_count": null,
      "outputs": []
    },
    {
      "cell_type": "code",
      "metadata": {
        "id": "AieQSW7L1JR1"
      },
      "source": [
        "import numpy as np\n",
        "\n",
        "import scipy.stats\n",
        "from scipy.stats import norm\n",
        "\n",
        "from matplotlib import pyplot as plt\n",
        "from IPython.core.pylabtools import figsize\n",
        "\n",
        "%matplotlib inline\n",
        "import torch\n",
        "from torch.distributions import constraints\n",
        "\n",
        "import pyro\n",
        "import pyro.infer\n",
        "import pyro.optim as optim\n",
        "import pyro.distributions as dist\n",
        "\n",
        "pyro.set_rng_seed(101)\n",
        "torch.manual_seed(101)\n",
        "np.random.seed(12);"
      ],
      "execution_count": null,
      "outputs": []
    },
    {
      "cell_type": "code",
      "metadata": {
        "id": "K_5w0Mjx5UfI"
      },
      "source": [
        ""
      ],
      "execution_count": null,
      "outputs": []
    },
    {
      "cell_type": "code",
      "metadata": {
        "colab": {
          "base_uri": "https://localhost:8080/",
          "height": 80
        },
        "id": "kJSrRfuq444l",
        "outputId": "550b0b03-bfda-44df-8a77-112b72b4a7c6"
      },
      "source": [
        "df=pd.read_csv('Book 4.csv',header=None)\n",
        "# df_test=pd.read_csv('https://s3.amazonaws.com/istreet-questions-us-east-1/418844/test.csv',header=None)\n",
        "\n",
        "df.head()"
      ],
      "execution_count": null,
      "outputs": [
        {
          "output_type": "execute_result",
          "data": {
            "text/html": [
              "<div>\n",
              "<style scoped>\n",
              "    .dataframe tbody tr th:only-of-type {\n",
              "        vertical-align: middle;\n",
              "    }\n",
              "\n",
              "    .dataframe tbody tr th {\n",
              "        vertical-align: top;\n",
              "    }\n",
              "\n",
              "    .dataframe thead th {\n",
              "        text-align: right;\n",
              "    }\n",
              "</style>\n",
              "<table border=\"1\" class=\"dataframe\">\n",
              "  <thead>\n",
              "    <tr style=\"text-align: right;\">\n",
              "      <th></th>\n",
              "      <th>0</th>\n",
              "      <th>1</th>\n",
              "    </tr>\n",
              "  </thead>\n",
              "  <tbody>\n",
              "    <tr>\n",
              "      <th>0</th>\n",
              "      <td>5.977789</td>\n",
              "      <td>4.980777</td>\n",
              "    </tr>\n",
              "  </tbody>\n",
              "</table>\n",
              "</div>"
            ],
            "text/plain": [
              "          0         1\n",
              "0  5.977789  4.980777"
            ]
          },
          "metadata": {},
          "execution_count": 12
        }
      ]
    },
    {
      "cell_type": "code",
      "metadata": {
        "id": "5Xf3sMHS8MXb"
      },
      "source": [
        "velocity,yaw,ang_vel=[],[],[]\n",
        "count=0\n",
        "for i in range(1,11):\n",
        "  count+=1\n",
        "  # print(count)\n",
        "  f=open(\"{}.txt\".format(i),\"r\")\n",
        "  yawl,avel,vx,vy=[],[],[],[]\n",
        "  for line in f:\n",
        "    # print(line)\n",
        "    \n",
        "    ls=line.split(\" \")\n",
        "    if ls[-1][:-1]==\"\\n\":\n",
        "      ls[-1]=ls[-1][:-1]\n",
        "    ls=list(map(float,ls))\n",
        "    \n",
        "    vx.append(ls[0])\n",
        "    vy.append(ls[1])\n",
        "    yawl.append(ls[2])\n",
        "    avel.append(ls[3])\n",
        "    # print(ls)\n",
        "  f.close()\n",
        "  yaw.append(statistics.mean(yawl))\n",
        "  ang_vel.append(statistics.mean(avel))\n",
        "  x=statistics.mean(vx)\n",
        "  y=statistics.mean(vy)\n",
        "  velocity.append(((x**2)+(y**2))**(0.5))\n",
        "\n",
        "\n"
      ],
      "execution_count": null,
      "outputs": []
    },
    {
      "cell_type": "code",
      "metadata": {
        "id": "-Oq4dmsq-tJ8"
      },
      "source": [
        "velocity=np.array(velocity)\n",
        "yaw=np.array(yaw)\n",
        "ang_vel=np.array(ang_vel)"
      ],
      "execution_count": null,
      "outputs": []
    },
    {
      "cell_type": "code",
      "metadata": {
        "colab": {
          "base_uri": "https://localhost:8080/"
        },
        "id": "quQFX8Vu5BE2",
        "outputId": "1a6f2c7e-a542-4aaf-a370-11675505fca3"
      },
      "source": [
        "velocity"
      ],
      "execution_count": null,
      "outputs": [
        {
          "output_type": "execute_result",
          "data": {
            "text/plain": [
              "array([13.91424185,  3.35383366, 11.03455584,  9.43727602,  5.03286097,\n",
              "        4.05553597, 21.94238155,  7.0112914 ,  5.92875802, 15.59002858])"
            ]
          },
          "metadata": {},
          "execution_count": 131
        }
      ]
    },
    {
      "cell_type": "code",
      "metadata": {
        "colab": {
          "base_uri": "https://localhost:8080/"
        },
        "id": "78Y5eBGzA4l1",
        "outputId": "9368303e-202c-4876-aace-f3dd85698d8f"
      },
      "source": [
        "print(velocity.mean(),yaw.mean(),ang_vel.mean())"
      ],
      "execution_count": null,
      "outputs": [
        {
          "output_type": "stream",
          "name": "stdout",
          "text": [
            "9.73007638647328 -5.899132649522689 172.8428850246266\n"
          ]
        }
      ]
    },
    {
      "cell_type": "code",
      "metadata": {
        "colab": {
          "base_uri": "https://localhost:8080/"
        },
        "id": "ForSuQPiDm5p",
        "outputId": "c9a2be23-6220-4102-b1c2-032e9cdbdb5e"
      },
      "source": [
        "print(velocity.std(),yaw.std(),ang_vel.std())"
      ],
      "execution_count": null,
      "outputs": [
        {
          "output_type": "stream",
          "name": "stdout",
          "text": [
            "5.652756871484022 28.532955224439853 161.22335857571576\n"
          ]
        }
      ]
    },
    {
      "cell_type": "code",
      "metadata": {
        "id": "4OeU1_ls2Btm"
      },
      "source": [
        "\n",
        "x=torch.tensor(ang_vel)"
      ],
      "execution_count": null,
      "outputs": []
    },
    {
      "cell_type": "code",
      "metadata": {
        "colab": {
          "base_uri": "https://localhost:8080/"
        },
        "id": "A68yNVjbBFEY",
        "outputId": "5961cc96-f21a-4f36-9488-02509ed6740d"
      },
      "source": [
        "n = 1000\n",
        "x = np.random.randn(n,1)\n",
        "std = 4\n",
        "mu = 2\n",
        "x = x * std + mu\n",
        "\n",
        "print(f\"Shape: {x.shape}\")\n",
        "print(f\"Mean: {np.mean(x)}\")\n",
        "print(f\"Standard deviation: {np.std(x)}\")"
      ],
      "execution_count": null,
      "outputs": [
        {
          "output_type": "stream",
          "name": "stdout",
          "text": [
            "Shape: (1000, 1)\n",
            "Mean: 1.7653922255563976\n",
            "Standard deviation: 3.870407390270422\n"
          ]
        }
      ]
    },
    {
      "cell_type": "code",
      "metadata": {
        "id": "PylDTqqVBGUC"
      },
      "source": [
        "x=x.reshape(n)\n",
        "x=torch.tensor(x)"
      ],
      "execution_count": null,
      "outputs": []
    },
    {
      "cell_type": "code",
      "metadata": {
        "id": "mOZ3RX1xHV8U"
      },
      "source": [
        "pyro.distributions.enable_validation(False)"
      ],
      "execution_count": null,
      "outputs": []
    },
    {
      "cell_type": "code",
      "metadata": {
        "id": "XAz1cmBKHpXz"
      },
      "source": [
        "def data_model(params):\n",
        "  mu_dist = pyro.sample(\"mu_dist\", dist.Normal(torch.tensor(params[0]), torch.tensor(params[1])))\n",
        "  std_dist = pyro.sample(\n",
        "      \"std_dist\", dist.Gamma(torch.tensor(np.abs(params[2])), torch.tensor(np.abs(params[3])))\n",
        "  )\n",
        "  # with pyro.plate(\"observed_data\", size=len(X)):\n",
        "  #       sample = pyro.sample(\"gaussian_data\", dist.Normal(mu, 1/torch.sqrt(tau)), obs=X)\n",
        "  # print(\"no\")\n",
        "  # print(mu_dist,std_dist)\n",
        "  sample=0\n",
        "  with pyro.plate(\"observation_dist\",size=len(x)):\n",
        "    sample=pyro.sample(\"data_dist\",dist.Normal(mu_dist, std_dist),obs=x)\n",
        "  return sample\n",
        "\n",
        "\n",
        "# conditioned_data_model = pyro.condition(\n",
        "#     data_model, data={\"data_dist\": torch.tensor(x.flatten())}\n",
        "# )"
      ],
      "execution_count": null,
      "outputs": []
    },
    {
      "cell_type": "code",
      "metadata": {
        "id": "aZ83ty4yIRnA"
      },
      "source": [
        "def parametrised_guide(params):\n",
        "  mu_mu = pyro.param(\"mu_mu\", torch.tensor(params[0]))\n",
        "  mu_std = pyro.param(\n",
        "      \"mu_std\", torch.tensor(params[1]), constraint=constraints.positive\n",
        "  )\n",
        "  std_a = pyro.param(\n",
        "      \"std_a\", torch.tensor(params[2]), constraint=constraints.positive\n",
        "  )\n",
        "  std_b = pyro.param(\n",
        "      \"std_b\", torch.tensor(params[3]), constraint=constraints.positive\n",
        "  )\n",
        "\n",
        "  mu_dist = pyro.sample(\"mu_dist\", dist.Normal(mu_mu, mu_std))\n",
        "  std_dist = pyro.sample(\"std_dist\", dist.Gamma(std_a, std_b))\n",
        "  # print(\"yes\")\n",
        "  # print(mu_dist,std_dist)\n",
        "  \n",
        "  return pyro.sample(\"data_dist\", dist.Normal(mu_dist, std_dist))"
      ],
      "execution_count": null,
      "outputs": []
    },
    {
      "cell_type": "code",
      "metadata": {
        "id": "TasBeqJGA80W"
      },
      "source": [
        "adam_params = {\"lr\": 0.3, \"betas\": (0.95, 0.999)}\n",
        "\n",
        "# pyro.optim.SGD({\"lr\": 0.0001, \"momentum\": 0.9})\n",
        "optimizer = pyro.optim.Adam(adam_params)\n",
        "svi = pyro.infer.SVI(\n",
        "  model=data_model,\n",
        "  guide=parametrised_guide,\n",
        "  optim=optimizer,\n",
        "  loss=pyro.infer.Trace_ELBO(),\n",
        ")"
      ],
      "execution_count": null,
      "outputs": []
    },
    {
      "cell_type": "code",
      "metadata": {
        "colab": {
          "base_uri": "https://localhost:8080/"
        },
        "id": "TXpkd8QVBo3a",
        "outputId": "08606224-585f-4781-9d42-7b204c754fce"
      },
      "source": [
        "mu_prior = [-10.0, 10.0]  # Gaussian - mu, std\n",
        "std_prior = [1.0, 0.1]  # Gamma - a, b\n",
        "params_prior = mu_prior + std_prior\n",
        "\n",
        "print(params_prior)\n",
        "\n",
        "# params_prior=torch.tensor(params_prior)\n",
        "print(params_prior)\n",
        "# Iterate over all the data\n",
        "losses, mu_mu, mu_std, std_a, std_b = [], [], [], [], []\n",
        "pyro.clear_param_store()"
      ],
      "execution_count": null,
      "outputs": [
        {
          "output_type": "stream",
          "name": "stdout",
          "text": [
            "[-10.0, 10.0, 1.0, 0.1]\n",
            "[-10.0, 10.0, 1.0, 0.1]\n"
          ]
        }
      ]
    },
    {
      "cell_type": "code",
      "metadata": {
        "colab": {
          "base_uri": "https://localhost:8080/"
        },
        "id": "3jmgxO23E66n",
        "outputId": "34876aaa-a7b2-4dd0-ed86-5c40e9666ff4"
      },
      "source": [
        "\n",
        "num_steps = 5000\n",
        "for t in range(num_steps):\n",
        "  loss=svi.step(params_prior)\n",
        "  losses.append(loss)\n",
        "  mu_mu.append(pyro.param(\"mu_mu\").item())\n",
        "  mu_std.append(pyro.param(\"mu_std\").item())\n",
        "  std_a.append(pyro.param(\"std_a\").item())\n",
        "  std_b.append(pyro.param(\"std_b\").item())\n",
        "  if (t%100==0):\n",
        "    print(\"{}  {}\".format(t,loss))"
      ],
      "execution_count": null,
      "outputs": [
        {
          "output_type": "stream",
          "name": "stderr",
          "text": [
            "/usr/local/lib/python3.7/dist-packages/pyro/util.py:289: UserWarning: Found non-auxiliary vars in guide but not model, consider marking these infer={'is_auxiliary': True}:\n",
            "{'data_dist'}\n",
            "  guide_vars - aux_vars - model_vars\n"
          ]
        },
        {
          "output_type": "stream",
          "name": "stdout",
          "text": [
            "0  87565.3575303906\n",
            "100  6295.130991785729\n",
            "200  4600.1443165684905\n",
            "300  3388.1730718709873\n",
            "400  2843.6628065616937\n",
            "500  2896.3431186051685\n",
            "600  3147.556841275876\n",
            "700  2788.957514307856\n",
            "800  3063.217989595021\n",
            "900  2853.4152072878514\n",
            "1000  3019.8210075749644\n",
            "1100  2828.064459217951\n",
            "1200  2790.119105052184\n",
            "1300  2841.7783410121083\n",
            "1400  2779.505261933255\n",
            "1500  2799.1913037985064\n",
            "1600  2781.6502296776057\n",
            "1700  2815.3325907740023\n",
            "1800  2777.9286776921354\n",
            "1900  2827.2753288246877\n",
            "2000  2825.8991496188587\n",
            "2100  2788.9978742899298\n",
            "2200  2783.062692399181\n",
            "2300  2801.9342895951445\n",
            "2400  2792.180235613628\n",
            "2500  2777.6001818848545\n",
            "2600  2793.498725032962\n",
            "2700  2801.2106001576403\n",
            "2800  2781.606538094413\n",
            "2900  2798.139235065619\n",
            "3000  2816.378121620095\n",
            "3100  2805.3403239095996\n",
            "3200  2791.9965000113534\n",
            "3300  2777.384627123302\n",
            "3400  2790.255311975389\n",
            "3500  2778.173912602449\n",
            "3600  2834.0052088783964\n",
            "3700  2782.353702659268\n",
            "3800  2778.451150139418\n",
            "3900  2783.1218641245523\n",
            "4000  2784.2693259797497\n",
            "4100  2775.3732950747567\n",
            "4200  2787.985416502234\n",
            "4300  2792.157896044656\n",
            "4400  2778.814760636122\n",
            "4500  2787.866892665646\n",
            "4600  2775.6126085585793\n",
            "4700  2780.8607908808763\n",
            "4800  2783.4434880403032\n",
            "4900  2780.6314694391576\n"
          ]
        }
      ]
    },
    {
      "cell_type": "code",
      "metadata": {
        "colab": {
          "base_uri": "https://localhost:8080/",
          "height": 444
        },
        "id": "RLsB1ky-E-52",
        "outputId": "19ff4f41-91a6-4e5b-e66d-427bd6b4ddc9"
      },
      "source": [
        "# Convergence of the loss function\n",
        "plt.figure(num=None, figsize=(10, 6), dpi=80)\n",
        "plt.plot(losses)\n",
        "plt.title(\"ELBO\")\n",
        "plt.xlabel(\"Iteration\")\n",
        "plt.ylabel(\"loss\")\n",
        "# plt.savefig(\"images/elbo.png\")\n",
        "plt.show()"
      ],
      "execution_count": null,
      "outputs": [
        {
          "output_type": "display_data",
          "data": {
            "image/png": "[encoded data removed]",
            "text/plain": [
              "<Figure size 800x480 with 1 Axes>"
            ]
          },
          "metadata": {
            "needs_background": "light"
          }
        }
      ]
    },
    {
      "cell_type": "code",
      "metadata": {
        "colab": {
          "base_uri": "https://localhost:8080/",
          "height": 413
        },
        "id": "dFOP81b0FCHR",
        "outputId": "d3577ea9-1a9d-41c4-9bd9-653de1a2be69"
      },
      "source": [
        "plt.figure(num=None, figsize=(10, 6), dpi=80)\n",
        "plt.subplot(2, 2, 1)\n",
        "plt.plot(mu_mu)\n",
        "plt.ylabel(\"mu_mu\")\n",
        "\n",
        "plt.subplot(2, 2, 2)\n",
        "plt.ylabel(\"mu_std\")\n",
        "plt.plot(mu_std)\n",
        "\n",
        "plt.subplot(2, 2, 3)\n",
        "plt.ylabel(\"std_a\")\n",
        "plt.plot(std_a)\n",
        "\n",
        "plt.subplot(2, 2, 4)\n",
        "plt.ylabel(\"std_b\")\n",
        "plt.plot(std_b)\n",
        "# plt.savefig(\"images/params.png\")\n",
        "plt.show()"
      ],
      "execution_count": null,
      "outputs": [
        {
          "output_type": "display_data",
          "data": {
            "image/png": "[encoded data removed]",
            "text/plain": [
              "<Figure size 800x480 with 4 Axes>"
            ]
          },
          "metadata": {
            "needs_background": "light"
          }
        }
      ]
    },
    {
      "cell_type": "code",
      "metadata": {
        "colab": {
          "base_uri": "https://localhost:8080/",
          "height": 444
        },
        "id": "9KuJKeKZFE4W",
        "outputId": "c43aa530-cad4-40bf-d555-734a6785c6dd"
      },
      "source": [
        "# Plot mean distributions\n",
        "plt.figure(num=None, figsize=(10, 6), dpi=80)\n",
        "mu_prior_dist = norm(loc=mu_prior[0], scale=mu_prior[1])\n",
        "x_range = np.linspace(mu_prior_dist.ppf(0.01), mu_prior_dist.ppf(0.99), num=100)\n",
        "y_values = mu_prior_dist.pdf(x_range)\n",
        "plt.plot(x_range, y_values, label=\"prior\")\n",
        "\n",
        "mu_post_dist = norm(loc=mu_mu[-1], scale=mu_std[-1])\n",
        "x_range = np.linspace(mu_post_dist.ppf(0.01), mu_post_dist.ppf(0.99), num=100)\n",
        "y_values = mu_post_dist.pdf(x_range)\n",
        "plt.plot(x_range, y_values, label=\"posterior\")\n",
        "\n",
        "plt.xlabel(\"x\")\n",
        "plt.ylabel(\"prob(x)\")\n",
        "plt.title(\"Mean PDF\")\n",
        "plt.legend()\n",
        "# plt.savefig(\"images/mean_dist.png\")\n",
        "plt.show()"
      ],
      "execution_count": null,
      "outputs": [
        {
          "output_type": "display_data",
          "data": {
            "image/png": "[encoded data removed]",
            "text/plain": [
              "<Figure size 800x480 with 1 Axes>"
            ]
          },
          "metadata": {
            "needs_background": "light"
          }
        }
      ]
    },
    {
      "cell_type": "code",
      "metadata": {
        "id": "yiLdBdktFOQ7",
        "colab": {
          "base_uri": "https://localhost:8080/",
          "height": 429
        },
        "outputId": "e4863a46-d069-4182-874d-9cc8e87d2775"
      },
      "source": [
        "# Plot std distributions\n",
        "plt.figure(num=None, figsize=(10, 6), dpi=80)\n",
        "x_range = np.linspace(0, 40, num=100)\n",
        "\n",
        "std_prior_dist = dist.Gamma(std_prior[0], std_prior[1])\n",
        "y_values = torch.exp(std_prior_dist.log_prob(x_range))\n",
        "plt.plot(x_range, y_values, label=\"prior\")\n",
        "\n",
        "std_post_dist = dist.Gamma(std_a[-1], std_b[-1])\n",
        "y_values = torch.exp(std_post_dist.log_prob(x_range))\n",
        "plt.plot(x_range, y_values, label=\"posterior\")\n",
        "\n",
        "plt.title(\"Standard Deviation PDF\")\n",
        "plt.legend()\n",
        "# plt.savefig(\"images/std_dist.png\")\n",
        "plt.show()"
      ],
      "execution_count": null,
      "outputs": [
        {
          "output_type": "display_data",
          "data": {
            "image/png": "[encoded data removed]",
            "text/plain": [
              "<Figure size 800x480 with 1 Axes>"
            ]
          },
          "metadata": {
            "needs_background": "light"
          }
        }
      ]
    },
    {
      "cell_type": "code",
      "metadata": {
        "id": "sf9ZvvN-GLwK"
      },
      "source": [
        ""
      ],
      "execution_count": null,
      "outputs": []
    }
  ]
}